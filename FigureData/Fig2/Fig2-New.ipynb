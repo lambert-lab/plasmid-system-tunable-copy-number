{
 "cells": [
  {
   "cell_type": "code",
   "execution_count": 190,
   "metadata": {},
   "outputs": [
    {
     "name": "stdout",
     "output_type": "stream",
     "text": [
      "Using matplotlib backend: MacOSX\n",
      "Populating the interactive namespace from numpy and matplotlib\n"
     ]
    },
    {
     "name": "stderr",
     "output_type": "stream",
     "text": [
      "/Users/guillaume/opt/anaconda3/lib/python3.8/site-packages/IPython/core/magics/pylab.py:159: UserWarning: pylab import has clobbered these variables: ['time', 'f']\n",
      "`%matplotlib` prevents importing * from pylab and numpy\n",
      "  warn(\"pylab import has clobbered these variables: %s\"  % clobbered +\n"
     ]
    }
   ],
   "source": [
    "%pylab\n",
    "import numpy as np\n",
    "import matplotlib.pyplot as plt\n",
    "import matplotlib\n",
    "from matplotlib.gridspec import GridSpec\n",
    "gs = GridSpec(2, 2)\n",
    "fig = plt.gcf()\n",
    "fig.set_tight_layout({'pad':2})\n",
    "fig.set_size_inches((3.5, 3.5))\n"
   ]
  },
  {
   "cell_type": "code",
   "execution_count": 191,
   "metadata": {},
   "outputs": [],
   "source": [
    "matplotlib.rc_file('matplotlibrc')\n"
   ]
  },
  {
   "cell_type": "code",
   "execution_count": 192,
   "metadata": {},
   "outputs": [
    {
     "data": {
      "text/plain": [
       "\"\\nfor i in range(0,6,6):\\n    for j in range(0,10):\\n        a = np.zeros(len(ODs[i][j]))\\n        b = np.zeros(len(ODs[i][j]))\\n        c = np.zeros(len(ODs[i][j]))\\n        d = np.zeros(len(ODs[i][j]))\\n        for k in range(0,len(ODs[i][j])):\\n            a[k] = np.mean([ODs[i][j][k],ODs[i+1][j][k],ODs[i+2][j][k],ODs[i+3][j][k],ODs[i+4][j][k],ODs[i+5][j][k]])\\n            b[k] = np.mean([fluor[i][j][k],fluor[i+1][j][k],fluor[i+2][j][k],fluor[i+3][j][k],fluor[i+4][j][k],fluor[i+5][j][k]]) - 25.0\\n            d[k] = np.mean([fluor[i][j][k]/ODs[i][j][k],fluor[i+1][j][k]/ODs[i+1][j][k],fluor[i+2][j][k]/ODs[i+2][j][k],fluor[i+3][j][k]/ODs[i+3][j][k],fluor[i+4][j][k]/ODs[i+4][j][k],fluor[i+5][j][k]/ODs[i+5][j][k]])\\n            c[k] = np.std([fluor[i][j][k],fluor[i+1][j][k],fluor[i+2][j][k],fluor[i+3][j][k],fluor[i+4][j][k],fluor[i+5][j][k]])#np.std([fluor[i][j][k],fluor[i+1][j][k],fluor[i+2][j][k],fluor[i+3][j][k],fluor[i+4][j][k],fluor[i+5][j][k]])\\n        ax.errorbar(a,b,yerr=c,fmt ='o',label=str(pcn[j])[0:4],capsize=2,color = colors[3:][j])\\nax.set_yscale('log')\\nax.legend()\\nax.set_ylim([1.0,5*10**4])\\nax.set_xlabel('Optical Density', fontsize = 8)\\nax.set_ylabel('Fluor (AU)', fontsize=8)\\nfig.savefig('pTet-IPTG-curves-OD.png')\\n\""
      ]
     },
     "execution_count": 192,
     "metadata": {},
     "output_type": "execute_result"
    }
   ],
   "source": [
    "OD = open('RawData/pTet-GFP-H-IPTG-OD.csv','r') \n",
    "GFP = open('RawData/pTet-GFP-H-IPTG-GFP.csv','r')\n",
    "\n",
    "def parse(file):\n",
    "    results = []\n",
    "    for i in range(0,6):\n",
    "        results.append([])\n",
    "        for j in range(0,10):\n",
    "            results[i].append([])\n",
    "    for line in file:\n",
    "        l = line.strip().split(',')\n",
    "        for i in range(0,60):\n",
    "            results[i%6][int(i/6)].append(float(l[i])-0.08)\n",
    "    return results\n",
    "ODs = parse(OD)\n",
    "fluor = parse(GFP)\n",
    "\n",
    "\n",
    "#fig,ax = plt.subplots(figsize=(4,3))\n",
    "atcConc = [100,10,3,1,0.3,0.1,0.03,0.01,0.003,0.0]\n",
    "pcn = [49.6363636363636,40.921052631579,42.5,46.1290322580645,32.8358208955224,11.2641509433962,7,2.8433734939759,(2.1),1.46987951807229]\n",
    "time = np.arange(0,3*len(ODs[0][0]),3)\n",
    "colors = ['#000fff','#150eeb','#2b0cd7','#400bc3','#550aaf','#6a099b','#800887','#950673','#aa055f','#bf044b','#d40237','#ea0123','#ff000f']\n",
    "\n",
    "'''\n",
    "for i in range(0,6,6):\n",
    "    for j in range(0,10):\n",
    "        a = np.zeros(len(ODs[i][j]))\n",
    "        b = np.zeros(len(ODs[i][j]))\n",
    "        c = np.zeros(len(ODs[i][j]))\n",
    "        d = np.zeros(len(ODs[i][j]))\n",
    "        for k in range(0,len(ODs[i][j])):\n",
    "            a[k] = np.mean([ODs[i][j][k],ODs[i+1][j][k],ODs[i+2][j][k],ODs[i+3][j][k],ODs[i+4][j][k],ODs[i+5][j][k]])\n",
    "            b[k] = np.mean([fluor[i][j][k],fluor[i+1][j][k],fluor[i+2][j][k],fluor[i+3][j][k],fluor[i+4][j][k],fluor[i+5][j][k]]) - 25.0\n",
    "            d[k] = np.mean([fluor[i][j][k]/ODs[i][j][k],fluor[i+1][j][k]/ODs[i+1][j][k],fluor[i+2][j][k]/ODs[i+2][j][k],fluor[i+3][j][k]/ODs[i+3][j][k],fluor[i+4][j][k]/ODs[i+4][j][k],fluor[i+5][j][k]/ODs[i+5][j][k]])\n",
    "            c[k] = np.std([fluor[i][j][k],fluor[i+1][j][k],fluor[i+2][j][k],fluor[i+3][j][k],fluor[i+4][j][k],fluor[i+5][j][k]])#np.std([fluor[i][j][k],fluor[i+1][j][k],fluor[i+2][j][k],fluor[i+3][j][k],fluor[i+4][j][k],fluor[i+5][j][k]])\n",
    "        ax.errorbar(a,b,yerr=c,fmt ='o',label=str(pcn[j])[0:4],capsize=2,color = colors[3:][j])\n",
    "ax.set_yscale('log')\n",
    "ax.legend()\n",
    "ax.set_ylim([1.0,5*10**4])\n",
    "ax.set_xlabel('Optical Density', fontsize = 8)\n",
    "ax.set_ylabel('Fluor (AU)', fontsize=8)\n",
    "fig.savefig('pTet-IPTG-curves-OD.png')\n",
    "'''"
   ]
  },
  {
   "cell_type": "code",
   "execution_count": 193,
   "metadata": {},
   "outputs": [],
   "source": [
    "GRarr = np.zeros((6,10,len(fluor[0][0])))\n",
    "c= np.zeros((6,10,len(fluor[0][0])))\n",
    "colors = ['#000fff','#150eeb','#2b0cd7','#400bc3','#550aaf','#6a099b','#800887','#950673','#aa055f','#bf044b','#d40237','#ea0123','#ff000f']\n",
    "for i in range(0,6):\n",
    "    for j in range(0,10):\n",
    "        for k in range(0,len(ODs[i][j])-1):\n",
    "            GRarr[i][j][k] = (((ODs[i][j][k+1] - ODs[i][j][k])) +(ODs[i][j][k] - ODs[i][j][k-1]))/2 #Central Difference to calculate growth rate\n",
    "\n",
    "tmax = np.zeros((6,10))\n",
    "for i in range(0,6,1):\n",
    "    for j in range(0,10):\n",
    "        for k in range(4,200):\n",
    "            if GRarr[i][j][k] >= max(GRarr[i][j][k+1:]) and GRarr[i][j][k] >= max(GRarr[i][j][:k]):\n",
    "                tmax[i][j] = k #Find time of maximum growth rate for each well\n",
    "                break\n",
    "growthRate = np.zeros((6,10))\n",
    "flu = np.zeros((6,10))\n",
    "for i in range(0,6,1):\n",
    "    for j in range(0,10):\n",
    "        f = int(tmax[i][j])\n",
    "        if f < 10:\n",
    "            f = int(tmax[i-1][j])\n",
    "        flu[i][j] = (np.mean(fluor[i][j][f-4:f+4])-25.0)/np.sum(ODs[i][j][f-4:f+4]) #Find Fluor/OD at time of maximum GR\n",
    "        growthRate[i][j] = np.mean(GRarr[i][j][f-1:f+1]) #Average growth rate over small window around maximum\n",
    "\n",
    "        "
   ]
  },
  {
   "cell_type": "code",
   "execution_count": 194,
   "metadata": {},
   "outputs": [
    {
     "data": {
      "text/plain": [
       "(4e-05, 200.0)"
      ]
     },
     "execution_count": 194,
     "metadata": {},
     "output_type": "execute_result"
    }
   ],
   "source": [
    "ax1 = plt.subplot(gs[0, 1])\n",
    "atcConc = [100,10,3,1,0.3,0.1,0.03,0.01,0.003,0.0001]\n",
    "\n",
    "for i in range(0,10):\n",
    "    ax1.errorbar([atcConc[i]],np.mean(np.transpose(growthRate)[i])*35/11,yerr=np.std(np.transpose(growthRate)[i])*35/11,fmt='o',ms=3,mew=0.5,mec='#231f20', color = colors[3:][i],capsize=1)\n",
    "    #Divide GR by GR of 0 atc condition, this looks better if plotted against aTc concentration\n",
    "ax1.set_xscale('log') \n",
    "plt.xticks([100,10,1,0.1,0.01,0.0001],['100','10','1','0.1','0.01','0'], rotation = 0)\n",
    "ax1.set_xlabel('atc Concetration (ng/uL)')\n",
    "ax1.set_ylabel('Growth Rate')\n",
    "ax1.set_ylim((0.015, 0.025))\n",
    "ax1.set_xlim((0.00004, 200))\n",
    "#fig.savefig('PCNvsGR.svg')   "
   ]
  },
  {
   "cell_type": "code",
   "execution_count": 195,
   "metadata": {},
   "outputs": [],
   "source": [
    "OD = open('pTet-GFP-Glycerol-Casamino-OD.csv','r') \n",
    "GFP = open('pTet-GFP-Glycerol-Casamino-Fluor.csv','r')\n",
    "ODG = open('pTet-GFP-Glucose-OD.csv','r') \n",
    "GFPG = open('pTet-GFP-Glucose-F.csv','r')\n",
    "ODH = open('pTet-GFP-H-IPTG-OD.csv','r') \n",
    "GFPH = open('pTet-GFP-H-IPTG-GFP.csv','r')\n",
    "\n",
    "\n",
    "def parse(file):\n",
    "    results = []\n",
    "    for i in range(0,6):\n",
    "        results.append([])\n",
    "        for j in range(0,10):\n",
    "            results[i].append([])\n",
    "    for line in file:\n",
    "        l = line.strip().split(',')\n",
    "        for i in range(0,60):\n",
    "            results[i%6][int(i/6)].append((float(l[i])-0.08)*4)\n",
    "    return results\n",
    "ODs = parse(OD)\n",
    "fluor = parse(GFP)\n",
    "ODsH = parse(ODH)\n",
    "fluorH = parse(GFPH)\n",
    "ODsG = parse(ODG)\n",
    "fluorG = parse(GFPG)\n",
    "\n",
    "\n",
    "atcConc = [100,10,3,1,0.3,0.1,0.03,0.01,0.003,0.0]\n",
    "pcn = [49.6363636363636,40.921052631579,42.5,46.1290322580645,32.8358208955224,11.2641509433962,7,2.8433734939759,(2.1),1.46987951807229]\n",
    "timeG = np.arange(0,3*len(ODsG[0][0]),3)\n",
    "timeH = np.arange(0,3*len(ODsH[0][0]),3)\n",
    "time = np.arange(0,3*len(ODs[0][0]),3)\n",
    "colors = ['#000fff','#150eeb','#2b0cd7','#400bc3','#550aaf','#6a099b','#800887','#950673','#aa055f','#bf044b','#d40237','#ea0123','#ff000f']\n",
    "\n",
    "## Below was for plotting OD and GFP vs Time ##\n",
    "\n",
    "#dens = np.zeros((6,10))\n",
    "#for i in range(0,6,6):\n",
    "#    for j in range(0,10):\n",
    "#        a,aH,aG = np.zeros(len(ODs[i][j])),np.zeros(len(ODsH[i][j])),np.zeros(len(ODsG[i][j]))\n",
    "#        b,bH,bG = np.zeros(len(ODs[i][j])),np.zeros(len(ODsH[i][j])),np.zeros(len(ODsG[i][j]))\n",
    "#        c = np.zeros(len(ODs[i][j]))\n",
    "#        d = np.zeros(len(ODs[i][j]))\n",
    "#        for k in range(0,len(ODs[i][j])):\n",
    "#            a[k] = np.mean([ODs[i][j][k],ODs[i+1][j][k],ODs[i+2][j][k],ODs[i+3][j][k],ODs[i+4][j][k],ODs[i+5][j][k]])\n",
    "#            b[k] = np.mean([fluor[i][j][k],fluor[i+1][j][k],fluor[i+2][j][k],fluor[i+3][j][k],fluor[i+4][j][k],fluor[i+5][j][k]]) - 25.0\n",
    "#            d[k] = np.mean([fluor[i][j][k]/ODs[i][j][k],fluor[i+1][j][k]/ODs[i+1][j][k],fluor[i+2][j][k]/ODs[i+2][j][k],fluor[i+3][j][k]/ODs[i+3][j][k],fluor[i+4][j][k]/ODs[i+4][j][k],fluor[i+5][j][k]/ODs[i+5][j][k]])\n",
    "#            c[k] = 0#np.std([fluor[i][j][k],fluor[i+1][j][k],fluor[i+2][j][k],fluor[i+3][j][k],fluor[i+4][j][k],fluor[i+5][j][k]])#np.std([fluor[i][j][k],fluor[i+1][j][k],fluor[i+2][j][k],fluor[i+3][j][k],fluor[i+4][j][k],fluor[i+5][j][k]])\n",
    "#        for k in range(0,len(ODsH[i][j])):    \n",
    "#            aH[k] = np.mean([ODsH[i][j][k],ODsH[i+1][j][k],ODsH[i+2][j][k],ODsH[i+3][j][k],ODsH[i+4][j][k],ODsH[i+5][j][k]])\n",
    "#            bH[k] = np.mean([fluorH[i][j][k],fluorH[i+1][j][k],fluorH[i+2][j][k],fluorH[i+3][j][k],fluorH[i+4][j][k],fluorH[i+5][j][k]]) - 25.0\n",
    "#        for k in range(0,len(ODsG[i][j])):    \n",
    "#            aG[k] = np.mean([ODsG[i][j][k],ODsG[i+1][j][k],ODsG[i+2][j][k],ODsG[i+3][j][k],ODsG[i+4][j][k],ODsG[i+5][j][k]])\n",
    "#            bG[k] = np.mean([fluorG[i][j][k],fluorG[i+1][j][k],fluorG[i+2][j][k],fluorG[i+3][j][k],fluorG[i+4][j][k],fluorG[i+5][j][k]]) - 20.0\n",
    "#        ax.errorbar(time,a,fmt ='o',label=str(pcn[j])[0:4],capsize=2,color = colors[3:][j])\n",
    "#        ax.errorbar(timeH,aH,fmt ='o',label=str(pcn[j])[0:4],capsize=2,color = 'Black')\n",
    "#        ax.errorbar(timeG,aG,fmt ='o',label=str(pcn[j])[0:4],capsize=2,color = '#277ee1')\n",
    "        \n",
    "#ax.set_xlabel('Optical Density', fontsize = 8)\n",
    "#ax.set_ylabel('Fluor (AU)', fontsize=8)\n",
    "#fig.savefig('pTet-IPTG-curves-OD.png')\n",
    "#fig,ax = plt.subplots()\n",
    "#ax.errorbar(pcn,density,yerr=dsd,fmt='o',ms=5,mew=0.5,mec='black',ecolor='black',capsize=2)\n",
    "#plt.xticks([100,10,3,1,0.3,0.1,0.03,0.01,0.003,0.0001],['100','10','3','1','0.3','0.1','0.03','0.01','0.003','0'], rotation = 45, fontsize=8)\n",
    "#ax.set_xlabel('atc concentration (ng/mL)')\n",
    "#ax.set_ylabel('Final Density')\n",
    "#ax.set_xscale('log')"
   ]
  },
  {
   "cell_type": "code",
   "execution_count": 196,
   "metadata": {},
   "outputs": [
    {
     "name": "stdout",
     "output_type": "stream",
     "text": [
      "[[111. 118. 107. 108. 112. 112.   4.  23.  74. 107.]\n",
      " [ 42. 104.  99. 107. 117.  20. 107. 107. 108. 118.]\n",
      " [108. 108. 109. 107. 106. 111. 108. 112. 118. 108.]\n",
      " [108. 109. 116. 113. 112. 109. 118. 106. 111.   0.]\n",
      " [118. 114.   0.  63.  67. 108. 110. 110. 108.  12.]\n",
      " [ 83. 108. 116. 117. 106.   8. 111. 112. 116. 107.]]\n"
     ]
    }
   ],
   "source": [
    "GRarr = np.zeros((6,10,len(fluor[0][0])))\n",
    "GRarrH = np.zeros((6,10,len(fluor[0][0])))\n",
    "GRarrG = np.zeros((6,10,len(fluor[0][0])))\n",
    "c= np.zeros((6,10,len(fluor[0][0])))\n",
    "colors = ['#000fff','#150eeb','#2b0cd7','#400bc3','#550aaf','#6a099b','#800887','#950673','#aa055f','#bf044b','#d40237','#ea0123','#ff000f']\n",
    "for i in range(0,6):\n",
    "    for j in range(0,10):\n",
    "        for k in range(0,len(ODs[i][j])-1):\n",
    "            GRarr[i][j][k] = (((ODs[i][j][k+1] - ODs[i][j][k])) +(ODs[i][j][k] - ODs[i][j][k-1]))/2 #Central Difference to calculate growth rate\n",
    "        for k in range(0,len(ODsH[i][j])-1):\n",
    "            GRarrH[i][j][k] = (((ODsH[i][j][k+1] - ODsH[i][j][k])) +(ODsH[i][j][k] - ODsH[i][j][k-1]))/2 #Central Difference to calculate growth rate\n",
    "        for k in range(0,len(ODsG[i][j])-1):\n",
    "            GRarrG[i][j][k] = (((ODsG[i][j][k+1] - ODsG[i][j][k])) +(ODsG[i][j][k] - ODsG[i][j][k-1]))/2 #Central Difference to calculate growth rate\n",
    "\n",
    "tmax, tmaxH,tmaxG = np.zeros((6,10)),np.zeros((6,10)),np.zeros((6,10))\n",
    "for i in range(0,6,1):\n",
    "    for j in range(0,10):\n",
    "        for k in range(4,400):\n",
    "            if GRarr[i][j][k] >= max(GRarr[i][j][k+1:401]) and GRarr[i][j][k] >= max(GRarr[i][j][:k]):\n",
    "                tmax[i][j] = k #Find time of maximum growth rate for each well\n",
    "                break\n",
    "        for k in range(4,400):   \n",
    "            if GRarrH[i][j][k] >= max(GRarrH[i][j][k+1:401]) and GRarrH[i][j][k] >= max(GRarrH[i][j][:k]):\n",
    "                tmaxH[i][j] = k #Find time of maximum growth rate for each well\n",
    "                break\n",
    "        for k in range(4,119):   \n",
    "            if GRarrG[i][j][k] >= max(GRarrG[i][j][k+1:120]) and GRarrG[i][j][k] >= max(GRarrG[i][j][:k]):\n",
    "                tmaxG[i][j] = k #Find time of maximum growth rate for each well\n",
    "                break\n",
    "\n",
    "tlag,tlagH,tlagG = np.zeros((6,10)),np.zeros((6,10)),np.zeros((6,10))\n",
    "for i in range(0,6,1):\n",
    "    for j in range(0,10):\n",
    "        for k in range(0,200):\n",
    "            if ODs[i][j][k] >= 0.015:\n",
    "                tlag[i][j] = k*3 #Find lagtime\n",
    "                break\n",
    "for i in range(0,6,1):\n",
    "    for j in range(0,10):        \n",
    "        for k in range(0,200):\n",
    "            if ODsH[i][j][k] >= 0.015:\n",
    "                tlagH[i][j] = k*3 #Find lagtime\n",
    "                break\n",
    "for i in range(0,6,1):\n",
    "    for j in range(0,10):\n",
    "        for k in range(0,400):\n",
    "            if ODsG[i][j][k] >= 0.015:\n",
    "                tlagG[i][j] = k*3 #Find lattime\n",
    "                break\n",
    "\n",
    "growthRate,growthRateH,growthRateG = np.zeros((6,10)),np.zeros((6,10)),np.zeros((6,10))\n",
    "flu,fluH,fluG = np.zeros((6,10)),np.zeros((6,10)),np.zeros((6,10))\n",
    "for i in range(0,6,1):\n",
    "    for j in range(0,10):\n",
    "        f = int(tmax[i][j])\n",
    "        if f < 10:\n",
    "            f = int(tmax[i-1][j])\n",
    "        growthRate[i][j] = np.mean(GRarr[i][j][f-2:f+2])\n",
    "        flu[i][j] = (np.mean(fluor[i][j][f-4:f+4]))*np.mean(ODs[i][j][f-4:f+4])#*growthRate[i][j]/pcn[j] # growthRate[i][j] = np.mean(GRarr[i][j][f-1:f+1])#Find Fluor/OD at time of maximum GR\n",
    "        #growthRate[i][j] = np.mean(GRarr[i][j][f-1:f+1]) #Avera/pcn[j] # growthRate[i][j] = np.mean(GRarr[i][j][f-1:f+1])#Find Fluor/OD at time of maximum GR\n",
    "        #growthRate[i][j] = np.mean(GRarr[i][j][f-1:f+1]) #Average growthge growth rate over small window around maximum\n",
    "for i in range(0,6,1):\n",
    "    for j in range(0,10):\n",
    "        f = int(tmaxH[i][j])\n",
    "        if f < 10:\n",
    "            f = int(tmaxH[i-1][j])\n",
    "        growthRateH[i][j] = np.mean(GRarrH[i][j][f-2:f+2])\n",
    "        fluH[i][j] = (np.mean(fluorH[i][j][f-4:f+4])/np.mean(ODsH[i][j][f-4:f+4]))#*growthRate[i][j]/pcn[j] # growthRate[i][j] = np.mean(GRarr[i][j][f-1:f+1])#Find Fluor/OD at time of maximum GR\n",
    "print(tmaxG)\n",
    "for i in range(0,6,1):\n",
    "    for j in range(0,10):\n",
    "        f = int(tmaxG[i][j])\n",
    "        if f < 10:\n",
    "            f = int(tmaxG[i-1][j])\n",
    "        growthRateG[i][j] = np.mean(GRarrG[i][j][f-2:f+2])\n",
    "        fluG[i][j] = (np.mean(fluorG[i][j][f-4:f+4])/np.mean(ODsG[i][j][f-4:f+4]))#*growthRate[i][j]/pcn[j] # growthRate[i][j] = np.mean(GRarr[i][j][f-1:f+1])#Find Fluor/OD at time of maximum GR"
   ]
  },
  {
   "cell_type": "code",
   "execution_count": 197,
   "metadata": {},
   "outputs": [
    {
     "data": {
      "text/plain": [
       "<matplotlib.legend.Legend at 0x7f86627ab520>"
      ]
     },
     "execution_count": 197,
     "metadata": {},
     "output_type": "execute_result"
    }
   ],
   "source": [
    "ProteinYield,ProteinYieldH ,ProteinYieldG  = np.zeros((6,10)),np.zeros((6,10)),np.zeros((6,10))\n",
    "predictedPCN,predictedPCNH,predictedPCNG = np.zeros((6,10)), np.zeros((6,10)), np.zeros((6,10))\n",
    "atcConc = [100,10,3,1,0.3,0.1,0.03,0.01,0.003,0.0001]\n",
    "ax = plt.subplot(gs[1, 0])\n",
    "\n",
    "for i in range(0,6):\n",
    "    for j in range(0,10):\n",
    "        ProteinYield[i][j] = fluor[i][j][len(fluor[i][j])-1]/ODs[i][j][len(fluor[i][j])-1]\n",
    "        ProteinYieldH[i][j] = fluorH[i][j][len(fluorH[i][j])-1]/ODsH[i][j][len(fluorH[i][j])-1]\n",
    "        ProteinYieldG[i][j] = fluorG[i][j][len(fluorG[i][j])-1]/ODsG[i][j][len(fluorG[i][j])-2]\n",
    "        predictedPCN[i][j] = fluor[i][j][len(fluor[i][j])-1]*(growthRate[i][j])/4.0\n",
    "        predictedPCNH[i][j] = fluorH[i][j][len(fluorH[i][j])-1]*(growthRateH[i][j])/40.0\n",
    "        predictedPCNG[i][j] = fluorG[i][j][len(fluorG[i][j])-1]*(growthRateG[i][j])/2.0\n",
    "\n",
    "##The predicted PCN calculation is made to predicted the endpoints well, the error might be reduced if Idid the mean growth rate instead of each wells measurement...\n",
    "for i in range(0,6):\n",
    "    a = ProteinYieldG[i][6].copy()\n",
    "    b = ProteinYieldG[i][7].copy()\n",
    "    ProteinYieldG[i][6] = b\n",
    "    ProteinYieldG[i][7] = a   ## columns 7 and 8 of m9+glucose were swapped\n",
    "    \n",
    "for i in range(0,10):\n",
    "    ax.errorbar(atcConc[i],np.mean(np.transpose(ProteinYieldH)[i]),yerr=np.std(np.transpose(ProteinYieldH)[i]),fmt='o',ms=3,mew=0.5,mec='#231f20', mfc ='#f4ba27',color='#231f20',capsize=1)\n",
    "    ax.errorbar(atcConc[i],np.mean(np.transpose(ProteinYield)[i]),yerr=np.std(np.transpose(ProteinYield)[i]),fmt='o',ms=3,mew=0.5,mec='#231f20', mfc ='#2ab992',color='#231f20',capsize=1)\n",
    "    ax.errorbar(atcConc[i],np.mean(np.transpose(ProteinYieldG)[i]),yerr=np.std(np.transpose(ProteinYieldG)[i]),fmt='o',ms=3,mew=0.5,mec='#231f20', mfc = '#5b398a',color='#231f20',capsize=1)\n",
    "\n",
    "#Last point is where label is attached\n",
    "i = 9\n",
    "ax.errorbar(atcConc[i]/1000,np.mean(np.transpose(ProteinYieldH)[i]),yerr=np.std(np.transpose(ProteinYieldH)[i]),fmt='o',ms=5,mew=0.5,mec='#231f20', mfc ='#f4ba27',color='#231f20',capsize=1,label = 'H Media')\n",
    "ax.errorbar(atcConc[i]/1000,np.mean(np.transpose(ProteinYieldG)[i]),yerr=np.std(np.transpose(ProteinYieldG)[i]),fmt='o',ms=5,mew=0.5,mec='#231f20',  mfc ='#2ab992',color='#231f20',capsize=1,label = 'M9+Glu')\n",
    "ax.errorbar(atcConc[i]/1000,np.mean(np.transpose(ProteinYield)[i]),yerr=np.std(np.transpose(ProteinYield)[i]),fmt='o',ms=5,mew=0.5,mec='#231f20', mfc = '#5b398a',color='#231f20',capsize=1, label = 'M9+Gly+CA')   \n",
    "\n",
    "#ax.errorbar(pcn[i],np.mean(np.transpose(predictedGFP)[i]),yerr=np.std(np.transpose(ProteinYield)[i]),fmt='o',ms=5,mew=0.5,mec='black', color = colors[3:][i],capsize=2)\n",
    "ax.set_yscale('log')\n",
    "ax.set_ylabel('Endpoint Fluoresence (AU)')\n",
    "ax.set_xlabel('aTc Conc (ng/$\\mu$L)')\n",
    "ax.set_xscale('log')\n",
    "plt.xticks([100,10,1,0.1,0.01,0.0001],['100','10','1','0.1','0.01','0'])\n",
    "plt.yticks([10**3,10**4,10**5])\n",
    "plt.ylim((5*10**2, 9*10**5))\n",
    "plt.xlim((0.00004, 400))\n",
    "ax.legend(fontsize=5, borderpad=0.2)\n",
    "#fig.savefig('EndpointFluor-fig2C.svg')"
   ]
  },
  {
   "cell_type": "code",
   "execution_count": 198,
   "metadata": {},
   "outputs": [
    {
     "data": {
      "text/plain": [
       "<matplotlib.legend.Legend at 0x7f8662987370>"
      ]
     },
     "execution_count": 198,
     "metadata": {},
     "output_type": "execute_result"
    }
   ],
   "source": [
    "ax = plt.subplot(gs[1, 1])\n",
    "for i in range(0,6):\n",
    "    a = predictedPCNG[i][6].copy()\n",
    "    b = predictedPCNG[i][7].copy()\n",
    "    predictedPCNG[i][6] = b\n",
    "    predictedPCNG[i][7] = a  ## columns 7 and 8 of m9+glucose were swapped\n",
    "for i in range(0,10):\n",
    "    ax.errorbar(atcConc[i],np.mean(np.transpose(predictedPCNH)[i]),yerr=np.std(np.transpose(predictedPCNH)[i]),fmt='o',ms=3,mew=0.5,mec='#231f20', mfc ='#f4ba27',color='#231f20',capsize=1)\n",
    "    ax.errorbar(atcConc[i],np.mean(np.transpose(predictedPCNG)[i]),yerr=np.std(np.transpose(predictedPCNG)[i]),fmt='o',ms=3,mew=0.5,mec='#231f20', mfc ='#2ab992',color='#231f20',capsize=1)\n",
    "    ax.errorbar(atcConc[i],np.mean(np.transpose(predictedPCN)[i]),yerr=np.std(np.transpose(predictedPCN)[i]),fmt='o',ms=3,mew=0.5,mec='#231f20', mfc = '#5b398a',color='#231f20',capsize=1)\n",
    "\n",
    "#Last point is where label is attached\n",
    "#i = 9\n",
    "i = 9\n",
    "ax.errorbar(atcConc[i]/1000,np.mean(np.transpose(predictedPCNH)[i]),yerr=np.std(np.transpose(predictedPCNH)[i]),fmt='o',ms=5,mew=0.5,mec='#231f20', mfc ='#f4ba27',color='#231f20',capsize=1,label = 'H Media')\n",
    "ax.errorbar(atcConc[i]/1000,np.mean(np.transpose(predictedPCNG)[i]),yerr=np.std(np.transpose(predictedPCNG)[i]),fmt='o',ms=5,mew=0.5,mec='#231f20', mfc ='#2ab992',color='#231f20',capsize=1,label = 'M9+Glu')\n",
    "ax.errorbar(atcConc[i]/1000,np.mean(np.transpose(predictedPCN)[i]),yerr=np.std(np.transpose(predictedPCN)[i]),fmt='o',ms=5,mew=0.5,mec='#231f20', mfc = '#5b398a',color='#231f20',capsize=1, label = 'M9+Gly+CA')    \n",
    "\n",
    "ax.set_yscale('log')\n",
    "ax.set_ylabel('Predicted PCN')\n",
    "ax.set_xlabel('aTc Conc (ng/$\\mu$L)')\n",
    "ax.set_xscale('log')\n",
    "plt.xticks([100,10,1,0.1,0.01,0.0001],['100','10','1','0.1','0.01','0'])\n",
    "plt.yticks([10**0,10**1,10**2])\n",
    "plt.xlim((0.00004, 400))\n",
    "plt.ylim((5*10**-1, 9*10**2))\n",
    "ax.legend(fontsize=5, borderpad=0.2, loc=2)\n",
    "\n",
    "#fig.savefig('Predicted-PCN-Fig2D.svg')\n",
    "#Overall - PCN appears to saturated at lower concentration but still maintains linear relationshipp....."
   ]
  },
  {
   "cell_type": "code",
   "execution_count": 199,
   "metadata": {},
   "outputs": [],
   "source": [
    "\n",
    "plt.tight_layout()\n",
    "fig = plt.gcf()\n",
    "fig.set_tight_layout({'pad':2})\n",
    "fig.set_size_inches((3.5, 2.75))\n",
    "plt.savefig('Fig2-New.pdf')\n",
    "plt.savefig('Fig2-New.svg')\n"
   ]
  },
  {
   "cell_type": "code",
   "execution_count": null,
   "metadata": {},
   "outputs": [],
   "source": []
  },
  {
   "cell_type": "code",
   "execution_count": 174,
   "metadata": {},
   "outputs": [],
   "source": [
    "## Not plotting M9 measurements on this fig bc they are very far below the H media and don't change much ##\n",
    "\n",
    "fig,ax = plt.subplots(figsize=(4,3))\n",
    "from scipy.stats import hmean\n",
    "atcConc = [100,10,3,1,0.3,0.1,0.03,0.01,0.003,0.0001]\n",
    "for i in range(0,6):\n",
    "    a = growthRateG[i][6]\n",
    "    b = growthRateG[i][7]\n",
    "    growthRateG[i][6] = b\n",
    "    growthRateG[i][7] = a  ## columns 7 and 8 of m9+glucose were swapped\n",
    "#/np.mean(np.transpose(growthRate)[9])\n",
    "for i in range(0,9):\n",
    "    #ax.errorbar([atcConc[i]],hmean(np.transpose(growthRate)[i]),yerr=np.std(np.transpose(growthRate)[i]),fmt='o',ms=5,mew=0.5,mec='black', color = colors[3:][i],capsize=2)\n",
    "    ax.errorbar([atcConc[i]],hmean(np.transpose(growthRateH)[i]),yerr=np.std(np.transpose(growthRateH)[i]),fmt='o',ms=8,mew=0.5,mec='black', color = 'black',capsize=2)\n",
    "    #ax.errorbar([atcConc[i]],hmean(np.transpose(growthRateG)[i]),yerr=np.std(np.transpose(growthRateG)[i]),fmt='o',ms=5,mew=0.5,mec='black', color = '#277ee1',capsize=2)\n",
    "\n",
    "i = 9\n",
    "#ax.errorbar([atcConc[i]],hmean(np.transpose(growthRate)[i]),yerr=np.std(np.transpose(growthRate)[i]),fmt='o',ms=5,mew=0.5,mec='black', color = colors[3:][i],capsize=2, label='M9+Glycerol+Casamino')\n",
    "ax.errorbar([atcConc[i]],hmean(np.transpose(growthRateH)[i]),yerr=np.std(np.transpose(growthRateH)[i]),fmt='o',ms=8,mew=0.5,mec='black', color = 'black',capsize=2, label = 'H Media')\n",
    "#ax.errorbar([atcConc[i]],hmean(np.transpose(growthRateG)[i]),yerr=np.std(np.transpose(growthRateG)[i]),fmt='o',ms=5,mew=0.5,mec='black', color = '#277ee1',capsize=2, label = 'M9+Glucose')\n",
    "\n",
    "\n",
    "ax.set_xscale('log') \n",
    "ax.legend()\n",
    "plt.xticks([100,10,1,0.1,0.01,0.0001],['100','10','1','0.1','0.01','0'], fontsize=12)\n",
    "plt.yticks([0.020,0.025,0.030],fontsize=12)\n",
    "ax.set_xlabel('atc Concetration (ng/uL)', fontsize=18)\n",
    "ax.set_ylabel('Growth Rate (1/min)',fontsize=18)\n",
    "#ax.set_ylim([0.018,0.030])\n",
    "fig.savefig('PCNvsGR.svg')\n"
   ]
  },
  {
   "cell_type": "code",
   "execution_count": 175,
   "metadata": {},
   "outputs": [],
   "source": [
    "## Fold Change in mid-exponential phase, drastically reduced for m9 media\n",
    "\n",
    "fig,ax = plt.subplots(figsize=(4,3))\n",
    "atcConc = [100,10,3,1,0.3,0.1,0.03,0.01,0.003,0.0001]\n",
    "for i in range(0,6):\n",
    "    a = fluG[i][6]\n",
    "    b = fluG[i][7]\n",
    "    fluG[i][6] = b ##Columns 7 and 8 were swapped##\n",
    "    fluG[i][7] = a\n",
    "for i in range(0,9):\n",
    "    ax.errorbar([atcConc[i]],np.mean(np.transpose(flu)[i])/np.mean(np.transpose(flu)[9]),yerr=np.std(np.transpose(flu)[i])/np.mean(np.transpose(flu)[9]),fmt='o',ms=5,mew=0.5,mec='black', color = colors[3:][i],capsize=2)\n",
    "    ax.errorbar([atcConc[i]],np.mean(np.transpose(fluH)[i])/np.mean(np.transpose(fluH)[9]),yerr=np.std(np.transpose(fluH)[i])/np.mean(np.transpose(fluH)[9]),fmt='o',ms=5,mew=0.5,mec='black', color = 'black',capsize=2)\n",
    "    ax.errorbar([atcConc[i]],np.mean(np.transpose(fluG)[i])/np.mean(np.transpose(fluG)[0]),yerr=np.std(np.transpose(fluG)[i])/np.mean(np.transpose(fluG)[9]),fmt='o',ms=5,mew=0.5,mec='black', color = '#277ee1',capsize=2)\n",
    "\n",
    "i = 9\n",
    "ax.errorbar([atcConc[i]],np.mean(np.transpose(flu)[i])/np.mean(np.transpose(flu)[9]),yerr=np.std(np.transpose(flu)[i])/np.mean(np.transpose(flu)[9]),fmt='o',ms=5,mew=0.5,mec='black', color = colors[3:][i],capsize=2, label = 'M9+Glycerol+Casamino')\n",
    "ax.errorbar([atcConc[i]],np.mean(np.transpose(fluH)[i])/np.mean(np.transpose(fluH)[9]),yerr=np.std(np.transpose(fluH)[i])/np.mean(np.transpose(fluH)[9]),fmt='o',ms=5,mew=0.5,mec='black', color = 'black',capsize=2, label = 'H Media')\n",
    "ax.errorbar([atcConc[i]],np.mean(np.transpose(fluG)[i])/np.mean(np.transpose(fluG)[9]),yerr=np.std(np.transpose(fluG)[i])/np.mean(np.transpose(fluG)[9]),fmt='o',ms=5,mew=0.5,mec='black', color = '#277ee1',capsize=2, label = 'M9 + Glucose')\n",
    "ax.legend()\n",
    "ax.set_xscale('log')   \n",
    "ax.set_yscale('log')\n",
    "plt.xticks([100,10,3,1,0.3,0.1,0.03,0.01,0.003,0.0001],['100','10','3','1','0.3','0.1','0.03','0.01','0.003','0'], rotation = 45, fontsize=8)\n",
    "ax.set_xlabel('atc conc (ng/uL)', fontsize=10)\n",
    "ax.set_ylabel('GFP (AU)', fontsize=10)\n",
    "fig.savefig('newGFP-atc-midEx.png')"
   ]
  },
  {
   "cell_type": "code",
   "execution_count": null,
   "metadata": {},
   "outputs": [],
   "source": []
  },
  {
   "cell_type": "code",
   "execution_count": null,
   "metadata": {
    "scrolled": true
   },
   "outputs": [],
   "source": []
  },
  {
   "cell_type": "code",
   "execution_count": null,
   "metadata": {},
   "outputs": [],
   "source": []
  },
  {
   "cell_type": "code",
   "execution_count": null,
   "metadata": {},
   "outputs": [],
   "source": []
  },
  {
   "cell_type": "code",
   "execution_count": null,
   "metadata": {},
   "outputs": [],
   "source": []
  },
  {
   "cell_type": "code",
   "execution_count": null,
   "metadata": {},
   "outputs": [],
   "source": []
  },
  {
   "cell_type": "code",
   "execution_count": null,
   "metadata": {},
   "outputs": [],
   "source": []
  }
 ],
 "metadata": {
  "kernelspec": {
   "display_name": "Python 3",
   "language": "python",
   "name": "python3"
  },
  "language_info": {
   "codemirror_mode": {
    "name": "ipython",
    "version": 3
   },
   "file_extension": ".py",
   "mimetype": "text/x-python",
   "name": "python",
   "nbconvert_exporter": "python",
   "pygments_lexer": "ipython3",
   "version": "3.8.3"
  }
 },
 "nbformat": 4,
 "nbformat_minor": 4
}
