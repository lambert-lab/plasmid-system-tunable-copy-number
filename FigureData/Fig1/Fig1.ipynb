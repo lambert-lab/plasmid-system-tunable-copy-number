{
 "cells": [
  {
   "cell_type": "code",
   "execution_count": 2,
   "metadata": {},
   "outputs": [
    {
     "name": "stdout",
     "output_type": "stream",
     "text": [
      "Using matplotlib backend: MacOSX\n",
      "Populating the interactive namespace from numpy and matplotlib\n"
     ]
    }
   ],
   "source": [
    "import numpy as np\n",
    "import matplotlib.pyplot as plt\n",
    "import matplotlib\n",
    "import matplotlib.patheffects as path_effects\n",
    "%pylab\n",
    "\n",
    "plt.clf()\n",
    "import matplotlib.pyplot as plt\n",
    "from matplotlib.gridspec import GridSpec\n",
    "gs = GridSpec(2, 7)\n",
    "fig = plt.gcf()\n",
    "fig.set_tight_layout({'pad':0})\n",
    "fig.set_size_inches((5.375, 2.75))\n"
   ]
  },
  {
   "cell_type": "code",
   "execution_count": 3,
   "metadata": {},
   "outputs": [
    {
     "data": {
      "text/plain": [
       "(0.0, 1.0, 0.0, 1.0)"
      ]
     },
     "execution_count": 3,
     "metadata": {},
     "output_type": "execute_result"
    }
   ],
   "source": [
    "ax0 = plt.subplot(gs[0, :3])\n",
    "plt.axis('off')\n",
    "\n"
   ]
  },
  {
   "cell_type": "code",
   "execution_count": 4,
   "metadata": {},
   "outputs": [],
   "source": [
    "ax1 = plt.subplot(gs[1, :3])\n",
    "\n",
    "## Paulsson Predictions\n",
    "kI, gamma,KI,eps,rho = 1,log(2)/30.,0.95,0.545,0.65 # Params from paulsson paper\n",
    "\n",
    "#ax1.fill_between([0, 1.5], [1,1], [0,0], color='#f0f0f0')   \n",
    "for gamma in [log(2)/30.]:\n",
    "\n",
    "    kp = np.linspace(0.05,1-0.0000001,1000)\n",
    "    #ax1 = fig.add_subplot(Grid[0:4,5:10])\n",
    "    ax1.plot(kp/kI,(eps+gamma)/(kI-kp)*(rho*(kp/gamma)-1)*KI,color='#cc333f', lw = 0.5)\n",
    "    ax1.text(kp[400]/kI, (eps+gamma)/(kI-kp[400])*(rho*(kp[400]/gamma)-1)*KI*1.2, \n",
    "             'hyperbolic (n=1)', fontsize=5, rotation=27, ha='center', va='center', color='#cc333f',\n",
    "             bbox=dict(boxstyle=\"round4,pad=0.2, rounding_size=0.2\", facecolor='None', alpha=1, lw=0))\n",
    "    ax1.semilogy(kp/kI, (eps+gamma)/(kI-kp)*log(rho*(kp/gamma))*KI, color='#231f20', lw=0.5)\n",
    "    ax1.text(kp[550]/kI,  (eps+gamma)/(kI-kp[550])*log(rho*(kp[550]/gamma))*KI*1.2, \n",
    "             'exponential (n=∞)', fontsize=5, rotation=20, ha='center', va='center', color='#231f20',\n",
    "             bbox=dict(boxstyle=\"round4,pad=0.2, rounding_size=0.2\", facecolor='None', alpha=1, lw=0))  \n",
    "    ax1.fill_between(kp/kI, \n",
    "                     (eps+gamma)/(kI-kp)*(rho*(kp/gamma)-1)*KI, \n",
    "                     (eps+gamma)/(kI-kp)*log(rho*(kp/gamma))*KI, \n",
    "                     color='#4682b4', alpha=0.25)\n",
    "    tt = ax1.text(kp[550]/kI,  (eps+gamma)/(kI-kp[550])*log(rho*(kp[550]/gamma))*KI*2.5, \n",
    "                  'stable plasmid copy number', fontweight='light', fontsize=5, rotation=25, ha='center', \n",
    "                  va='center', color='#335266',\n",
    "                  bbox=dict(boxstyle=\"round4,pad=0.2, rounding_size=0.2\", facecolor='None', alpha=1, lw=0))  \n",
    "#tt.set_path_effects([path_effects.Stroke(linewidth=0.25, foreground='#335266'),\n",
    "#                       path_effects.Normal()])\n",
    "\n",
    "ax1.plot([0, 1.5], [1,1], color='#ffffff', lw=1, dashes=(1.5,1.5), alpha=0.8)  \n",
    "ax1.plot([0, 1.5], [1,1], color='#231f20', lw=0.5, dashes=(3,3))  \n",
    "\n",
    "#ax1.fill_between([1, 2], [10000,10000], [0.001,0.001], color='#f0f0f0') \n",
    "ax1.plot([1, 1], [0.01,10000], color='#ffffff', lw=1, dashes=(1.5, 1.5), alpha=0.8)  \n",
    "ax1.plot([1, 1], [0.01,10000], color='#231f20', lw=0.5, dashes=(3,3))  \n",
    "\n",
    "bbox_props = dict(boxstyle=\"round,pad=0.25\", fc=\"#f3f5f7\", ec=\"#231f20\", lw=0.25)\n",
    "ax1.text(0.55, 0.475, \"Plasmid loss\", ha=\"center\", va=\"center\", rotation=0,\n",
    "            size=7,\n",
    "            bbox=bbox_props)\n",
    "\n",
    "bbox_props = dict(boxstyle=\"rarrow,pad=0.25\", fc=\"#f3f5f7\", ec=\"#231f20\", lw=0.25)\n",
    "ax1.text(1.115, 50, \"Runaway replication\", ha=\"center\", va=\"center\", rotation=90,\n",
    "            size=7,\n",
    "            bbox=bbox_props)\n",
    "\n",
    "\n",
    "\n",
    "xlim((0, 1.25))    \n",
    "ylim((0.2, 3500))\n",
    "#ax1.set_yscale('log')\n",
    "ax1.set_xlabel(r'RNA production ratio $\\left(\\dfrac{k_p}{k_i}\\right)$')\n",
    "ax1.set_ylabel('Plasmid Copy Number')\n",
    "ax1.tick_params(which = 'both', axis = 'both')\n",
    "ax1.set_yticks([1, 10, 100, 1000])\n",
    "ax1.get_yaxis().set_major_formatter(matplotlib.ticker.ScalarFormatter())\n",
    "\n",
    "\n",
    "axin1 = ax1.inset_axes([0.1875, 0.65, 0.4, 0.30])\n",
    "kp = 0.5\n",
    "gamma = linspace(log(2)/120, log(2)/2, 1000)\n",
    "#ax1 = fig.add_subplot(Grid[0:4,5:10])\n",
    "axin1.plot(log(2)/gamma,(eps+gamma)/(kI-kp)*(rho*(kp/gamma)-1)*KI,color='#cc333f', lw = 0.5)\n",
    "#n=0.5\n",
    "#axin1.plot(log(2)/gamma,(eps+gamma)/(kI-kp)*((rho*(kp/gamma))**(1./n)-1)*KI*n,color='#35aaaf', lw = 0.5)\n",
    "axin1.semilogy(log(2)/gamma, (eps+gamma)/(kI-kp)*log(rho*(kp/gamma))*KI, color='#231f20', lw=0.5)\n",
    "axin1.fill_between(log(2)/gamma, \n",
    "                   (eps+gamma)/(kI-kp)*log(rho*(kp/gamma))*KI, \n",
    "                   (eps+gamma)/(kI-kp)*(rho*(kp/gamma)-1)*KI, \n",
    "                   color='#4682b4', alpha=0.25)\n",
    "\n",
    "axin1.set_ylim((0.33, 250))\n",
    "axin1.set_xlim((-1, 120))\n",
    "axin1.set_xlabel('Division time', fontsize=5)\n",
    "axin1.set_ylabel('PCN', fontsize=5)\n",
    "axin1.set_xticks([0, 60, 120])\n",
    "axin1.set_yticks([1, 10, 100])\n",
    "axin1.tick_params(labelsize=5)\n",
    "axin1.get_yaxis().set_major_formatter(matplotlib.ticker.ScalarFormatter())\n",
    "axin1.tick_params(top=True, right=True)\n",
    "axin1.text(10, 75, r'$k_p=0.5$', fontsize=4)\n",
    "axin1.spines['right'].set_visible(True)\n",
    "axin1.spines['top'].set_visible(True)\n",
    "#axin1.fill_between(kp/kI, (eps+gamma)/(kI-kp)*(rho*(kp/gamma)-1)*KI, (eps+gamma)/(kI-kp)*log(rho*(kp/gamma))*KI, color='#4682b4')\n"
   ]
  },
  {
   "cell_type": "code",
   "execution_count": null,
   "metadata": {},
   "outputs": [],
   "source": []
  },
  {
   "cell_type": "code",
   "execution_count": 5,
   "metadata": {},
   "outputs": [],
   "source": [
    "ax3 = plt.subplot(gs[0, 3:5])\n",
    "\n",
    "atc = [100,10,3,1,0.3,0.1,0.01,0.001]\n",
    "pcn = [49.6363636363636,40.921052631579,42.5,46.1290322580645,32.8358208955224,11.2641509433962,2.8433734939759,1.46987951807229]\n",
    "low = [36.0810810810811, 30.3, 32.0192307692308, 34.0243902439024,24.48275862068978,14.5555555555556,2.02803738317757,1.03809523809524]\n",
    "high = [62.3913043478261,50,50.7142857142857,56.6037735849057,40,3.73972602739726,2.06849315068493,1.03809523809524]\n",
    "error = np.zeros((2,len(pcn)))\n",
    "for i in range(0,len(pcn)):\n",
    "    error[0][i] = abs(high[i] - pcn[i])\n",
    "    error[1][i] = abs(pcn[i] - low[i])\n",
    "\n",
    "    \n",
    "\n",
    "f= polyfit(log(atc[:-3]), log(pcn[:-3]), 1)\n",
    "\n",
    "ax3.errorbar(atc,pcn,yerr=error,fmt='o',ms=3.0,mew=0.5, mec='#231f20', ecolor='#231f20',color='#edf291',capsize=1)\n",
    "#ax3.set_xscale('log')\n",
    "#ax.set_xlabel('aTc conc (ng/ul)', fontsize=8)\n",
    "#ax.set_ylabel('Plasmid Copy Number', fontsize=8)\n",
    "\n",
    "#ax3.errorbar(atc,atcPCN, fmt='o',ms = 3, mfc='#edf291', mew = 0.5, mec = '#231f20',yerr = atcPCNerr, ecolor = '#231f20', capsize = 1)\n",
    "#ax3.plot([2, 2], [0, 150], color='#ffffff', lw=1, dashes=(1.5,1.5), alpha=0.8)  \n",
    "#ax3.plot([2, 2], [0, 150], color='#231f20', lw=0.5, dashes=(3,3), alpha=0.8)  \n",
    "\n",
    "\n",
    "ax3.set_ylim((0.75, 200))\n",
    "\n",
    "ax3.set_xlabel('aTc Concentration (ng/ml)')\n",
    "ax3.set_ylabel('Plasmid Copy Number')\n",
    "ax3.set_xscale('log')\n",
    "ax3.set_yscale('log')\n",
    "plt.xticks([100,10,1,0.1,0.01,0.001],['100','10','1','0.1','0.01','0'])\n",
    "\n",
    "\n",
    "ax3.set_yticks([1, 10, 100])\n",
    "\n",
    "ax3.get_yaxis().set_major_formatter(matplotlib.ticker.ScalarFormatter())\n",
    "\n",
    "ax3.tick_params(which='major',axis='both')\n",
    "\n",
    "\n"
   ]
  },
  {
   "cell_type": "code",
   "execution_count": 6,
   "metadata": {},
   "outputs": [
    {
     "name": "stdout",
     "output_type": "stream",
     "text": [
      "[0.         0.04705882 0.8       ]\n",
      "[0.07148936 0.04765957 0.8       ]\n",
      "[0.16       0.04465116 0.8       ]\n",
      "[0.2625641  0.04512821 0.8       ]\n",
      "[0.38857143 0.04571429 0.8       ]\n",
      "[0.54709677 0.04645161 0.8       ]\n",
      "[0.75851852 0.04740741 0.8       ]\n",
      "[0.8        0.03221477 0.61744966]\n",
      "[0.8        0.02352941 0.44705882]\n",
      "[0.8        0.01675393 0.31413613]\n",
      "[0.8        0.00754717 0.20754717]\n",
      "[0.8        0.0034188  0.11965812]\n",
      "[0.8        0.         0.04705882]\n"
     ]
    }
   ],
   "source": [
    "OD = open('RawData/pUC-pTet-growth.csv','r') \n",
    "\n",
    "def parse(file):\n",
    "    results = []\n",
    "    for i in range(0,6):\n",
    "        results.append([])\n",
    "        for j in range(0,10):\n",
    "            results[i].append([])\n",
    "    for line in file:\n",
    "        l = line.strip().split(',')\n",
    "        for i in range(0,60):\n",
    "            results[i%6][int(i/6)].append(float(l[i])-0.084)\n",
    "    return results\n",
    "ODs = parse(OD)\n",
    "\n",
    "ax4 = plt.subplot(gs[0, 5:])\n",
    "atc = array(([10,3,1,0.3,0.1,0.03,0.01, 0.003, 0.001, 0.0003, 0.0001]))*42 #Atc concentration\n",
    "\n",
    "colors = ['#000fff','#150eeb','#2b0cd7','#400bc3','#550aaf','#6a099b','#800887','#950673','#aa055f','#bf044b','#d40237','#ea0123','#ff000f']\n",
    "\n",
    "from matplotlib.colors import rgb_to_hsv, hsv_to_rgb, hex2color\n",
    "\n",
    "colorsHSV = []\n",
    "for c in colors:\n",
    "    h = rgb_to_hsv(hex2color(c))\n",
    "    h[2] = 0.8\n",
    "    colorsHSV.append(hsv_to_rgb(h))\n",
    "    print(colorsHSV[-1])\n",
    "\n",
    "#Old values\n",
    "#pcn = [40.921052631579,42.5,46.1290322580645,32.8358208955224,11.2641509433962,5.0, 2.8433734939759,2.0, 1.46987951807229, 1.2, 1]\n",
    "#GR = [0.99, 1.005, 1, 1.0227, 0.978, 1, 1.065, 1.043, 1.02, 1.041, 1.14]\n",
    "#GRe = [0.025, 0.025, 0.025, 0.025, 0.0375, 0.0425, 0.025, 0.03, 0.045, 0.05, 0.0475]\n",
    "\n",
    "pcn = [49.6363636363636, 40.921052631579, 42.5, 46.1290322580645, 32.8358208955224, 11.2641509433962, 7, 2.8433734939759, 2.1, 1.46987951807229]\n",
    "GR = [0.0025833333333333337, 0.002729166666666668, 0.0027083333333333347, 0.002812500000000002, 0.0028541666666666676, 0.002895833333333335, 0.002937500000000002, 0.002875000000000002, 0.002916666666666667, 0.0031250000000000023]\n",
    "GRe = [9.316949906249209e-05, 8.589803386703474e-05, 0.00011785113019775914, 0.00011967838846954328, 0.00016796370308955433, 0.00011219093348196877, 0.00013975424859373776, 0.00014433756729740707, 0.000186338998124982, 0.00010206207261596584]\n",
    "\n",
    "for i in range(len(pcn)):\n",
    "    #ax4.plot(pcn[i], array(GR), marker='o',ms = 3, mfc='#efefef', mew = 0.5, mec = '#231f20', lw=0)\n",
    "    ax4.errorbar(pcn[i],8*array(GR)[i], yerr = 8*array(GRe)[i],  fmt='o',ms = 2.5, mfc=colorsHSV[i], mew = 0.5, mec = '#231f20',ecolor = '#231f20', capsize = 1)\n",
    "\n",
    "\n",
    "ax4.set_xlabel('Copy number')\n",
    "ax4.set_ylabel('Growth rate (1/min)')\n",
    "ax4.set_xscale('log')\n",
    "ax4.set_ylim((0.000625, 0.03125))\n",
    "plt.xticks([1, 10, 100],[1, 10, 100])\n",
    "\n",
    "axin4 = ax4.inset_axes([0.5, 0.2, 0.4, 0.35])\n",
    "\n",
    "atcConc = [100,10,3,1,0.3,0.1,0.03,0.01,0.003,0.0001]\n",
    "pcn = [49.6363636363636,40.921052631579,42.5,46.1290322580645,32.8358208955224,11.2641509433962,7,2.8433734939759,(2.1),1.46987951807229]\n",
    "time = np.arange(0,3*len(ODs[0][0]),3)\n",
    "\n",
    "    \n",
    "\n",
    "b = np.zeros((6,10))\n",
    "density,dsd = np.zeros(10),np.zeros(10)\n",
    "for i in [2,3]:\n",
    "    for j in range(0,3):\n",
    "        a = np.zeros(len(ODs[i][j]))\n",
    "        #for k in range(0,len(ODs[i][j])):\n",
    "        #    a[k] = np.mean([ODs[i][j][k],ODs[i+1][j][k],ODs[i+2][j][k],ODs[i+3][j][k],ODs[i+4][j][k],ODs[i+5][j][k]])\n",
    "   \n",
    "        axin4.plot(time/20,ODs[i][j],'.',ms=0.25, color = colorsHSV[3:][j], alpha=0.125) #label=str(pcn[j])[0:4]\n",
    "        #ax.plot(time, a,'-', color=colorsHSV[2:][j])\n",
    "        b[i][j] = max(ODs[i][j])\n",
    "        \n",
    "axin4.set_xlabel('Time (mins)', fontsize=5)\n",
    "axin4.set_ylabel('OD_600', fontsize=5)\n",
    "axin4.set_xticks([0, 60, 120])\n",
    "axin4.set_yticks([0, 1])\n",
    "axin4.tick_params(labelsize=5)"
   ]
  },
  {
   "cell_type": "code",
   "execution_count": 89,
   "metadata": {},
   "outputs": [
    {
     "name": "stdout",
     "output_type": "stream",
     "text": [
      "[47.80263166 29.9638943  48.24855076 13.16349539 18.32388458  5.88581213]\n"
     ]
    },
    {
     "data": {
      "text/plain": [
       "Text(0.5, 0, 'IPTG Concentration (mM)')"
      ]
     },
     "execution_count": 89,
     "metadata": {},
     "output_type": "execute_result"
    }
   ],
   "source": [
    "ax5 = plt.subplot(gs[1, 3:5])\n",
    "\n",
    "## Measuring DNA concentrations shows clear differences in ratio...time to do ddPCR experiments\n",
    "meancc = np.zeros(6)\n",
    "sdcc = np.zeros(6)\n",
    "bla = [9460,7000,2360,3820,3940,1150]\n",
    "dxs = [34,38,13.4,44,36,34]\n",
    "sd = np.zeros(6)\n",
    "for i in range(0,6):\n",
    "    sd[i] = (np.sqrt(bla[i])+bla[i])/(dxs[i]-np.sqrt(dxs[i])) - bla[i]/dxs[i]\n",
    "    sd[i] = bla[i]/dxs[i]*sqrt(1/bla[i]+1/dxs[i])\n",
    "print(sd)\n",
    "IPTG = [0.00001,0.001,0.01,0.03,0.1,1]\n",
    "pcn = np.zeros(6)\n",
    "for i in range(0,6):\n",
    "    pcn[i] = bla[i]/dxs[i]\n",
    "ax5.errorbar(IPTG,pcn,yerr=sd,fmt='o',ms=3,mfc='#92d8f4', mew=0.5,mec='#231f20',ecolor='#231f20',capsize=1)\n",
    "ax5.plot([0.000001, 10], [270, 270], color='#ffffff', lw=1, dashes=(1.5,1.5), alpha=0.8)  \n",
    "ax5.plot([0.000001, 10], [270, 270], color='#231f20', lw=0.5, dashes=(3,3), alpha=0.8)  \n",
    "ax5.text(0.000025, 275, 'pUC19\\ncopy number', fontsize=4)\n",
    "\n",
    "ax5.set_xscale('log')\n",
    "plt.xticks([0.00001, 0.0001, 0.01, 1], [0, 0.0001, 0.01, 1])\n",
    "plt.yticks([30, 100, 200, 300])\n",
    "ax5.set_ylim(9, 350)\n",
    "ax5.set_xlim(0.000003, 3)\n",
    "#ax2.set_yscale('log')\n",
    "ax5.set_ylabel('Plasmid Copy Number')\n",
    "ax5.set_xlabel('IPTG Concentration (mM)')"
   ]
  },
  {
   "cell_type": "code",
   "execution_count": 90,
   "metadata": {},
   "outputs": [
    {
     "name": "stderr",
     "output_type": "stream",
     "text": [
      "<ipython-input-90-9237e189261d>:46: RuntimeWarning: divide by zero encountered in double_scalars\n",
      "  growthRate[i][j] = log(2)/np.mean(GRarr[i][j][fg-1:fg+1])/100*40# /np.mean(ODs[i][j][f-2:f+2])\n"
     ]
    },
    {
     "data": {
      "text/plain": [
       "([<matplotlib.axis.XTick at 0x7f861c433d90>,\n",
       "  <matplotlib.axis.XTick at 0x7f861c433a60>,\n",
       "  <matplotlib.axis.XTick at 0x7f861c4333d0>,\n",
       "  <matplotlib.axis.XTick at 0x7f861c475310>],\n",
       " <a list of 4 Text major ticklabel objects>)"
      ]
     },
     "execution_count": 90,
     "metadata": {},
     "output_type": "execute_result"
    }
   ],
   "source": [
    "ax6 = plt.subplot(gs[1, 5:])\n",
    "\n",
    "\n",
    "OD = open('RawData/pUC-pLac-RNAi-g.csv','r') \n",
    "\n",
    "def parse(file):\n",
    "    results = []\n",
    "    for i in range(0,6):\n",
    "        results.append([])\n",
    "        for j in range(0,6):\n",
    "            results[i].append([])\n",
    "    for line in file:\n",
    "        l = line.strip().split(',')\n",
    "        for i in range(0,36):\n",
    "            results[int(i%6)][int(i/6)].append(float(l[i])-0.08)\n",
    "    return results\n",
    "ODs = parse(OD)\n",
    "\n",
    "\n",
    "GRarr = np.zeros((6,6,len(ODs[0][0])))\n",
    "\n",
    "\n",
    "for i in range(0,6):\n",
    "    for j in range(0,6):\n",
    "        for k in range(0,len(ODs[i][j])-1,1):\n",
    "            GRarr[i][j][k] = ((ODs[i][j][k+1] - ODs[i][j][k]))\n",
    "growthRate = np.zeros((6,6))\n",
    "\n",
    "\n",
    "flu = np.zeros((6,6))\n",
    "time = np.arange(0,400)\n",
    "tmax = np.zeros((6,6))\n",
    "for i in range(0,6,1):\n",
    "    for j in range(0,6):\n",
    "        for k in range(4,len(GRarr[i][j])):\n",
    "            if GRarr[i][j][k] >= max(GRarr[i][j][k+1:]) and GRarr[i][j][k] >= max(GRarr[i][j][:k]):\n",
    "                tmax[i][j] = k\n",
    "                break\n",
    "\n",
    "for i in range(0,6,1):\n",
    "    for j in range(0,6):\n",
    "        a = np.zeros(len(GRarr[i][j]))\n",
    "        for k in range(0,len(GRarr[i][j])):\n",
    "            a[k] = GRarr[i][j][k]/ODs[i][j][k]\n",
    "        fg = int(tmax[i][j])\n",
    "        growthRate[i][j] = log(2)/np.mean(GRarr[i][j][fg-1:fg+1])/100*40# /np.mean(ODs[i][j][f-2:f+2])\n",
    "\n",
    "growthRate = np.transpose(growthRate)\n",
    "grav = np.zeros(6)\n",
    "grsd = np.zeros(6)\n",
    "\n",
    "colors = ['#000fff',\n",
    "          #'#150eeb',\n",
    "          '#2b0cd7',\n",
    "          #'#400bc3',\n",
    "          '#550aaf',\n",
    "          #'#6a099b',\n",
    "          #'#800887',\n",
    "          #'#950673',\n",
    "          #'#aa055f',\n",
    "          '#bf044b',\n",
    "          '#d40237',\n",
    "          #'#ea0123',\n",
    "          '#ff000f']\n",
    "\n",
    "for i in range(0,6):\n",
    "    gg0 = growthRate[i]\n",
    "    gg = gg0[~isinf(gg0) & (gg0>0) & (gg0<200)]\n",
    "    grav[i] = log(2)/np.mean(gg)\n",
    "    grsd[i] = np.std(log(2)/gg)/sqrt(len(gg))\n",
    "for i in range(len(pcn)):\n",
    "    ax6.errorbar(pcn[i],grav[i],yerr=grsd[i],xerr=sd[i],fmt='o',ms=3,mew=0.5,mfc=colors[i],mec='#231f20', capsize=1, ecolor='#231f20')\n",
    "\n",
    "ax6.set_ylabel('Growth Rate (1/min)')\n",
    "ax6.set_xlabel('Copy Number')\n",
    "ax6.set_ylim(0., 0.02225)\n",
    "ax6.set_xlim((15, 350))\n",
    "plt.xticks([30, 100, 200, 300])\n",
    "#ax6.set_xscale('log')"
   ]
  },
  {
   "cell_type": "code",
   "execution_count": 91,
   "metadata": {},
   "outputs": [
    {
     "data": {
      "text/plain": [
       "[<matplotlib.axis.YTick at 0x7f861c422490>,\n",
       " <matplotlib.axis.YTick at 0x7f860bfc2850>]"
      ]
     },
     "execution_count": 91,
     "metadata": {},
     "output_type": "execute_result"
    }
   ],
   "source": [
    "axin6 = ax6.inset_axes([0.5, 0.2, 0.4, 0.25])\n",
    "axin6.set_xlabel('Time (mins)', fontsize=5, labelpad=0)\n",
    "axin6.set_ylabel('OD 600', fontsize=5, labelpad=0)\n",
    "axin6.set_xticks([0, 300, 600])\n",
    "#axin3.set_yticks([0, 0.5, 1])\n",
    "axin6.set_ylim(0, 1)\n",
    "axin6.tick_params(labelsize=5)\n",
    "\n",
    "colors = ['#000fff','#150eeb','#2b0cd7','#400bc3','#550aaf','#6a099b','#800887','#950673','#aa055f','#bf044b','#d40237','#ea0123','#ff000f']\n",
    "\n",
    "cc = np.zeros((6,6))\n",
    "l = ['1x','0.01x','0x,']\n",
    "time = np.arange(0,3*len(ODs[0][0]),3)\n",
    "for i in range(0,6,1):\n",
    "    for j in range(0,6):\n",
    "        a = np.zeros(len(ODs[i][j]))\n",
    "        b = np.zeros(len(ODs[i][j]))\n",
    "        for k in range(0,len(ODs[i][j])):\n",
    "            a[k] = ODs[i][j][k]#,ODs[i+2][j][k],ODs[i+1][j][k],ODs[i+3][j][k],ODs[i+4][j][k],ODs[i+5][j][k]])\n",
    "            b[k] = 0#np.std([ODs[i][j][k],ODs[i+1][j][k],ODs[i+2][j][k],ODs[i+3][j][k],ODs[i+4][j][k],ODs[i+5][j][k]])/6\n",
    "        axin6.plot(time/2,a,lw=0.25,color = colors[j*2])\n",
    "        cc[i][j] = max(ODs[i][j])\n",
    "#axin3.legend()\n",
    "axin6.set_xlim(0, 600)\n",
    "axin6.set_yticks([0, 1])"
   ]
  },
  {
   "cell_type": "code",
   "execution_count": 92,
   "metadata": {},
   "outputs": [],
   "source": [
    "plt.tight_layout()\n",
    "fig = plt.gcf()\n",
    "fig.set_tight_layout({'pad':2})\n",
    "fig.set_size_inches((5.75, 3.25))\n",
    "plt.savefig('Fig1-Temp.pdf')\n",
    "plt.savefig('Fig1.svg')"
   ]
  },
  {
   "cell_type": "code",
   "execution_count": 82,
   "metadata": {},
   "outputs": [
    {
     "data": {
      "text/plain": [
       "array([0.01545083, 0.02024353, 0.02032307, 0.01197835, 0.0092437 ,\n",
       "       0.00920514])"
      ]
     },
     "execution_count": 82,
     "metadata": {},
     "output_type": "execute_result"
    }
   ],
   "source": [
    "grav"
   ]
  },
  {
   "cell_type": "code",
   "execution_count": null,
   "metadata": {},
   "outputs": [],
   "source": []
  },
  {
   "cell_type": "code",
   "execution_count": null,
   "metadata": {},
   "outputs": [],
   "source": []
  },
  {
   "cell_type": "code",
   "execution_count": 52,
   "metadata": {},
   "outputs": [],
   "source": []
  },
  {
   "cell_type": "code",
   "execution_count": 53,
   "metadata": {},
   "outputs": [
    {
     "data": {
      "text/plain": [
       "array([0.05113053, 3.66820498])"
      ]
     },
     "execution_count": 53,
     "metadata": {},
     "output_type": "execute_result"
    }
   ],
   "source": [
    "f"
   ]
  },
  {
   "cell_type": "code",
   "execution_count": 49,
   "metadata": {},
   "outputs": [
    {
     "data": {
      "text/plain": [
       "11"
      ]
     },
     "execution_count": 49,
     "metadata": {},
     "output_type": "execute_result"
    }
   ],
   "source": []
  },
  {
   "cell_type": "code",
   "execution_count": null,
   "metadata": {},
   "outputs": [],
   "source": []
  }
 ],
 "metadata": {
  "kernelspec": {
   "display_name": "Python 3",
   "language": "python",
   "name": "python3"
  },
  "language_info": {
   "codemirror_mode": {
    "name": "ipython",
    "version": 3
   },
   "file_extension": ".py",
   "mimetype": "text/x-python",
   "name": "python",
   "nbconvert_exporter": "python",
   "pygments_lexer": "ipython3",
   "version": "3.8.3"
  }
 },
 "nbformat": 4,
 "nbformat_minor": 4
}
