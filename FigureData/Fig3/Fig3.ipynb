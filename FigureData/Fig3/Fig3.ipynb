{
 "cells": [
  {
   "cell_type": "code",
   "execution_count": 1,
   "metadata": {},
   "outputs": [
    {
     "name": "stdout",
     "output_type": "stream",
     "text": [
      "Using matplotlib backend: MacOSX\n",
      "Populating the interactive namespace from numpy and matplotlib\n"
     ]
    }
   ],
   "source": [
    "import numpy as np\n",
    "import matplotlib.pyplot as plt\n",
    "import matplotlib\n",
    "import matplotlib.patheffects as path_effects\n",
    "import json\n",
    "%pylab\n",
    "import multiprocessing\n",
    "import scipy.optimize\n",
    "from scipy.interpolate import interp1d\n",
    "from scipy.integrate import odeint\n",
    "from scipy.optimize import fsolve\n",
    "\n",
    "plt.clf()\n",
    "import matplotlib.pyplot as plt\n",
    "from matplotlib.gridspec import GridSpec\n",
    "gs = GridSpec(2, 8)\n",
    "fig = plt.gcf()\n",
    "fig.set_tight_layout({'pad':0})\n",
    "fig.set_size_inches((5, 2.825))\n",
    "#plt.rcParams['figure.constrained_layout.use'] = True\n"
   ]
  },
  {
   "cell_type": "code",
   "execution_count": 2,
   "metadata": {},
   "outputs": [],
   "source": [
    "## Diagram\n",
    "aTc = array([1.e-03, 1.e-02, 1.e-01, 3.e-01, 1.e+00, 3.e+00, 1.e+01, 1.e+02])\n",
    "\n",
    "colors = ['#000fff','#2b0cd7','#550aaf','#6a099b','#800887','#aa055f','#bf044b','#d40237']\n",
    "colors = flipud(['#000fff','#150eeb','#2b0cd7','#6a099b','#aa055f','#bf044b','#d40237','#ea0123'])\n",
    "\n"
   ]
  },
  {
   "cell_type": "code",
   "execution_count": 91,
   "metadata": {},
   "outputs": [
    {
     "name": "stdout",
     "output_type": "stream",
     "text": [
      "0.001 ng/uL N = 1774\t\t889\n",
      "0.01 ng/uL N = 13251\t\t6665\n",
      "0.1 ng/uL N = 16776\t\t8522\n",
      "0.3 ng/uL N = 43831\t\t22460\n",
      "1 ng/uL N = 39533\t\t19385\n",
      "3 ng/uL N = 65754\t\t35018\n",
      "10 ng/uL N = 64362\t\t32827\n",
      "100 ng/uL N = 43805\t\t22246\n"
     ]
    },
    {
     "data": {
      "text/plain": [
       "([<matplotlib.axis.YTick at 0x7ff175e68a30>,\n",
       "  <matplotlib.axis.YTick at 0x7ff175e68610>,\n",
       "  <matplotlib.axis.YTick at 0x7ff175e665e0>,\n",
       "  <matplotlib.axis.YTick at 0x7ff181c6dbb0>,\n",
       "  <matplotlib.axis.YTick at 0x7ff181c790d0>,\n",
       "  <matplotlib.axis.YTick at 0x7ff181c795e0>,\n",
       "  <matplotlib.axis.YTick at 0x7ff181c79af0>,\n",
       "  <matplotlib.axis.YTick at 0x7ff181c79730>],\n",
       " [Text(0, 0, '0.001 ng/uL'),\n",
       "  Text(0, 0, '0.01 ng/uL'),\n",
       "  Text(0, 0, '0.1 ng/uL'),\n",
       "  Text(0, 0, '0.3 ng/uL'),\n",
       "  Text(0, 0, '1 ng/uL'),\n",
       "  Text(0, 0, '3 ng/uL'),\n",
       "  Text(0, 0, '10 ng/uL'),\n",
       "  Text(0, 0, '100 ng/uL')])"
      ]
     },
     "execution_count": 91,
     "metadata": {},
     "output_type": "execute_result"
    }
   ],
   "source": [
    "## Intensity Distribution\n",
    "\n",
    "ax4 = plt.subplot(gs[:, :2])\n",
    "\n",
    "aTcS = []\n",
    "for i in range(8):\n",
    "    if aTc[i] >= 1:\n",
    "        aa = str(int(aTc[i]))\n",
    "    else:\n",
    "        aa = str(aTc[i])\n",
    "    aTcS.append((aa)+' ng/uL')\n",
    "\n",
    "try:\n",
    "    IntensityList\n",
    "except:\n",
    "    IntensityList = []\n",
    "    for i in range(8):\n",
    "        d0 = genfromtxt('RawData/distribution_intensity_exp_'+str(i)+'.csv')\n",
    "        IntensityList.append(d0)\n",
    "\n",
    "for i in range(8):\n",
    "    a, b = histogram(IntensityList[i], logspace(1, 5, 55)/log(10), density=True)\n",
    "    \n",
    "    print(aTcS[i]+' N = '+str(len((abs(diff(log(IntensityList[i])))>0.2).nonzero()[0]))+'\\t\\t'+str(len(((diff(log(IntensityList[i])))>0.25).nonzero()[0])))\n",
    "    \n",
    "    fill_between(log(b[:-1])/log(10), a/max(a)+i/0.9, i/0.9, step=\"pre\", color=colors[i], alpha=0.05, zorder=(7-i))\n",
    "    step(log(b[:-1])/log(10), a/max(a)+i/0.9, color=colors[i], zorder=(7-i)) \n",
    "xlabel('Intensity')\n",
    "\n",
    "yticks(arange(8)/0.9, aTcS)\n"
   ]
  },
  {
   "cell_type": "code",
   "execution_count": 48,
   "metadata": {},
   "outputs": [
    {
     "data": {
      "text/plain": [
       "[Text(0, 0, '0'), Text(0, 0, '1'), Text(0, 0, '100')]"
      ]
     },
     "execution_count": 48,
     "metadata": {},
     "output_type": "execute_result"
    }
   ],
   "source": [
    "#Intensity vs. aTc\n",
    "ax1 = plt.subplot(gs[0, 2:5])\n",
    "\n",
    "xlabel('aTc concentration (ng/mL)')\n",
    "ylabel('Fold-change')\n",
    "\n",
    "\n",
    "try:\n",
    "    IntensityList\n",
    "except:    \n",
    "    IntensityList = []\n",
    "    for i in range(8):\n",
    "        d0 = genfromtxt('RawData/distribution_intensity_exp_'+str(i)+'.csv')\n",
    "        IntensityList.append(d0)\n",
    "Int = []\n",
    "Int_err = []\n",
    "        \n",
    "maxInt=mean(IntensityList[7])\n",
    "for i in range(8):\n",
    "    errorbar(log(aTc[i])/log(10), (mean(IntensityList[i]))/maxInt, yerr=(std(IntensityList[i]))/sqrt(20)/maxInt, \n",
    "             color=colors[i], marker='o', mec='#231f20', mew=0.25, mfc=colors[i], ms=2,\n",
    "             elinewidth=0.5, capsize=1)\n",
    "semilogy()\n",
    "xticks([-3, -2, -1, 0, 1, 2], [0, 0.01, 0.1, 1, 10, 100])\n",
    "#yticks([])\n",
    "xlim((-3.5, 3))\n",
    "axin1 = ax1.inset_axes([0.6, 0.125, 0.35, 0.45])   \n",
    "axin1.set_xlabel('aTc', fontsize=4, labelpad=1)\n",
    "axin1.set_ylabel('FC', fontsize=4, labelpad=1)\n",
    "axin1.set_xticks([0, 5, 10])\n",
    "axin1.tick_params(labelsize=4)\n",
    "\n",
    "for i in range(8):\n",
    "    axin1.plot(log(aTc[i])/log(10), mean((IntensityList[i]))/maxInt,\n",
    "             color='#ffffff', marker='o', mec='#231f20', mew=0.25, mfc=colors[i], ms=1.5, zorder=10)\n",
    "axin1.spines['bottom'].set_position('zero')    \n",
    "axin1.set_ylim((-5000/maxInt, 15000/maxInt))\n",
    "axin1.set_xticks([-3, 0, 2])\n",
    "axin1.set_xticklabels([0, 1, 100])\n"
   ]
  },
  {
   "cell_type": "code",
   "execution_count": 52,
   "metadata": {},
   "outputs": [
    {
     "data": {
      "text/plain": [
       "Text(0, 0.5, 'Viable cells (%)')"
      ]
     },
     "execution_count": 52,
     "metadata": {},
     "output_type": "execute_result"
    }
   ],
   "source": [
    "## Plasmid loss\n",
    "\n",
    "ax2 = plt.subplot(gs[0, 5:])\n",
    "\n",
    "nCellsList = []\n",
    "elongated = []\n",
    "grow = []\n",
    "for i in range(8):\n",
    "    d0 = genfromtxt('RawData/detectedcells_exp_'+str(i)+'.csv')\n",
    "    nCellsList.append(d0)\n",
    "    d0 = genfromtxt('RawData/elongated'+str(i)+'.csv')\n",
    "    elongated.append(d0)\n",
    "    d0 = genfromtxt('RawData/positivegrowth'+str(i)+'.csv')\n",
    "    grow.append(d0)\n",
    "    \n",
    "avgFactor = 30\n",
    "for i in range(8):\n",
    "    nCells = nCellsList[i] - elongated[i]\n",
    "    nCells = grow[i]    \n",
    "    maxID = argmax(nCells)\n",
    "    try:\n",
    "        minID = ((array(nCells[maxID:])/nCells[maxID])>0.08).nonzero()[0][-1]\n",
    "    except:\n",
    "        minID = -1\n",
    "    while (minID-maxID) % avgFactor != 0:\n",
    "        minID -= 1        \n",
    "    if minID - maxID > 1500:\n",
    "        minID = maxID + 1500 \n",
    "    xdata = arange(minID-maxID)\n",
    "    ydata = (array(nCells[maxID:minID])/nCells[maxID])\n",
    "    \n",
    "    plot(xdata[:-15], ydata[:-15], lw=0.25, mew=0, color=colors[i], alpha=0.25)\n",
    "    plot(hstack((0, xdata.reshape(-1, avgFactor).mean(1))), \n",
    "         hstack((1, ydata.reshape(-1, avgFactor).mean(1))), \n",
    "         label=aTcS[i], lw=1, color=colors[i])\n",
    "\n",
    "\n",
    "xlim((0, 1750)) \n",
    "ylim((0.025, 1.1))\n",
    "semilogy()\n",
    "#legend(fontsize=4)\n",
    "xlabel('Time (mins)')\n",
    "ylabel('Viable cells (%)')"
   ]
  },
  {
   "cell_type": "code",
   "execution_count": 33,
   "metadata": {},
   "outputs": [
    {
     "name": "stdout",
     "output_type": "stream",
     "text": [
      "0 326 116 210\n",
      "1 943 133 810\n",
      "2 1022 62 960\n",
      "3 915 75 840\n",
      "4 1604 104 1500\n",
      "5 1705 205 1500\n",
      "6 1597 97 1500\n",
      "7 1634 134 1500\n"
     ]
    },
    {
     "data": {
      "text/plain": [
       "Text(0, 0.5, 'Non-growing cells (%)')"
      ]
     },
     "execution_count": 33,
     "metadata": {},
     "output_type": "execute_result"
    }
   ],
   "source": [
    "## Elongated / Slow growing\n",
    "\n",
    "ax3 = plt.subplot(gs[1, 5:])\n",
    "\n",
    "avgFactor = 30\n",
    "\n",
    "for i in range(8):\n",
    "    nCells = nCellsList[i] - elongated[i]\n",
    "    nCells = grow[i]    \n",
    "    maxID = argmax(nCells)\n",
    "    try:\n",
    "        minID = ((array(nCells[maxID:])/nCells[maxID])>0.15).nonzero()[0][-1]\n",
    "    except:\n",
    "        minID = len(nCells)\n",
    "    \n",
    "    while (minID-maxID) % avgFactor != 0:\n",
    "        minID -= 1        \n",
    "    if minID - maxID > 1500:\n",
    "        minID = maxID + 1500\n",
    "    print(i, minID, maxID, minID-maxID)    \n",
    "    xdata = arange(minID-maxID)\n",
    "    ydata = array(elongated[i][maxID:minID])/array(nCells[maxID:minID])\n",
    "    plot(xdata[:-15], ydata[:-15], lw=0.25, mew=0, color=colors[i], alpha=0.25)    \n",
    "    plot(hstack((0, xdata.reshape(-1, avgFactor).mean(1))), \n",
    "         hstack((0, ydata.reshape(-1, avgFactor).mean(1))), \n",
    "        lw=1, color=colors[i], label=aTcS[i])\n",
    "    \n",
    "#legend(fontsize=4)\n",
    "xlim((0, 1750))\n",
    "\n",
    "\n",
    "xlabel('Time (mins)')\n",
    "ylabel('Non-growing cells (%)')"
   ]
  },
  {
   "cell_type": "code",
   "execution_count": null,
   "metadata": {},
   "outputs": [],
   "source": []
  },
  {
   "cell_type": "code",
   "execution_count": 92,
   "metadata": {},
   "outputs": [
    {
     "data": {
      "text/plain": [
       "(0.0, 1.1)"
      ]
     },
     "execution_count": 92,
     "metadata": {},
     "output_type": "execute_result"
    }
   ],
   "source": [
    "ax4 = plt.subplot(gs[1, 2:5])\n",
    "\n",
    "try:\n",
    "    GRList\n",
    "except:\n",
    "    GRList = []\n",
    "    for i in range(8):\n",
    "        d0 = genfromtxt('RawData/distribution_growthrate_exp_'+str(i)+'.csv')\n",
    "        GRList.append((array(d0)))\n",
    "\n",
    "\n",
    "for i in [0, 1, 2, 3, 4]:\n",
    "    a, b = histogram(log(array(GRList[i])), 30, density=True)\n",
    "    #fill_between((b[:-1]), a/max(a), i/0.9, step=\"pre\", color='#f0f0f0', zorder=(7-i))\n",
    "    fill_between((b[:-1]), a/max(a), zorder=(6-i), color=colors[i], alpha=0.)\n",
    "    plot((b[:-1]), a/max(a), zorder=(6-i), color=colors[i],label=aTcS[i]) \n",
    "    #GRhigh = hstack((array(GRList[6]),\n",
    "#                 array(GRList[7])))\n",
    "#a, b = histogram(log((GRhigh)/log(2)*43), 25, density=True)\n",
    "#fill_between((b[:-1]), a/max(a), i/0.9, step=\"pre\", color='#f0f0f0', zorder=(7-i))\n",
    "#plot((b[:-1]), a/max(a), zorder=(7-i), label='10+')\n",
    "    \n",
    "legend(fontsize=4)\n",
    "xlabel('log[growth rate]')\n",
    "ylabel('Rel. Density')\n",
    "'''\n",
    "for i in range(8):\n",
    "    a, b = histogram(array(GRList[i]), logspace(-2.35, -1.375, 51), density=True)\n",
    "    errorbar(i, mean(GRList[i]), std(GRList[i]), marker='o', color='#cc333f')\n",
    "ylim((0, 0.03))    \n",
    "'''\n",
    "xlim((-5.35, -3.25))\n",
    "ylim((0, 1.1))\n",
    "#violinplot((GRList[4:]))\n"
   ]
  },
  {
   "cell_type": "code",
   "execution_count": 110,
   "metadata": {},
   "outputs": [
    {
     "name": "stdout",
     "output_type": "stream",
     "text": [
      "0.001 ng/uL 0.017699052964690206 1455\n",
      "0.01 ng/uL 0.01638409354323867 10276\n",
      "0.1 ng/uL 0.017225233427411998 13800\n",
      "0.3 ng/uL 0.01575131855009643 33156\n",
      "1 ng/uL 0.01475840158381491 35277\n",
      "3 ng/uL 0.015075199214408362 71885\n",
      "10 ng/uL 0.014852153839449319 81511\n",
      "100 ng/uL 0.013593768820250167 59757\n"
     ]
    }
   ],
   "source": [
    "for i in range(8):\n",
    "    print(aTcS[i], mean(GRList[i]), len(((abs(diff(GRList[i]))>0)).nonzero()[0]))"
   ]
  },
  {
   "cell_type": "code",
   "execution_count": 50,
   "metadata": {},
   "outputs": [
    {
     "data": {
      "text/plain": [
       "(array([0.25667979, 0.27877753, 0.33539807, 0.39760203, 0.31691776,\n",
       "        0.33079765, 0.29403362, 0.32832051, 0.29780832, 0.34141401,\n",
       "        0.34322272, 0.35234492, 0.40019714, 0.41918861, 0.37404946,\n",
       "        0.44616201, 0.36087732, 0.39123222, 0.37959355, 0.41568915,\n",
       "        0.44521833, 0.40629171, 0.40751062, 0.48603231, 0.44403874,\n",
       "        0.51237659, 0.53128942, 0.57214272, 0.52185266, 0.51705565,\n",
       "        0.50667521, 0.59738604, 0.55535315, 0.63470055, 0.54147325,\n",
       "        0.67972175, 0.67115002, 0.67622228, 0.65333815, 0.64048056,\n",
       "        0.64130628, 0.7064199 , 0.69049538, 0.69930302, 0.70767814,\n",
       "        0.68734979, 0.79602978, 0.728439  , 0.7210862 , 0.7466834 ,\n",
       "        0.75419349, 0.81010627, 0.77766742, 0.77794266, 0.80141659,\n",
       "        0.81226886, 0.85390855, 0.80994899, 0.77200537, 0.77566211,\n",
       "        0.76720835, 0.82953026, 0.7732636 , 0.71349747, 0.75509784,\n",
       "        0.72195123, 0.73972379, 0.67453153, 0.62502787, 0.63831797,\n",
       "        0.63827865, 0.59919475, 0.55759438, 0.46790587, 0.51560081,\n",
       "        0.47109078, 0.38572744, 0.36504522, 0.33988053, 0.35391771,\n",
       "        0.28424299, 0.29155647, 0.25801667, 0.22652149, 0.18869582,\n",
       "        0.18464588, 0.14929736, 0.16860339, 0.12951949, 0.13868101,\n",
       "        0.14194455, 0.11331972, 0.12900833, 0.10502324, 0.10439412,\n",
       "        0.11119645, 0.0831221 , 0.08339734, 0.06668642, 0.07714549]),\n",
       " array([-5.29831737, -5.27752645, -5.25673554, -5.23594462, -5.21515371,\n",
       "        -5.19436279, -5.17357188, -5.15278096, -5.13199005, -5.11119913,\n",
       "        -5.09040822, -5.0696173 , -5.04882639, -5.02803547, -5.00724456,\n",
       "        -4.98645364, -4.96566273, -4.94487181, -4.9240809 , -4.90328999,\n",
       "        -4.88249907, -4.86170816, -4.84091724, -4.82012633, -4.79933541,\n",
       "        -4.7785445 , -4.75775358, -4.73696267, -4.71617175, -4.69538084,\n",
       "        -4.67458992, -4.65379901, -4.63300809, -4.61221718, -4.59142626,\n",
       "        -4.57063535, -4.54984443, -4.52905352, -4.5082626 , -4.48747169,\n",
       "        -4.46668077, -4.44588986, -4.42509894, -4.40430803, -4.38351712,\n",
       "        -4.3627262 , -4.34193529, -4.32114437, -4.30035346, -4.27956254,\n",
       "        -4.25877163, -4.23798071, -4.2171898 , -4.19639888, -4.17560797,\n",
       "        -4.15481705, -4.13402614, -4.11323522, -4.09244431, -4.07165339,\n",
       "        -4.05086248, -4.03007156, -4.00928065, -3.98848973, -3.96769882,\n",
       "        -3.9469079 , -3.92611699, -3.90532607, -3.88453516, -3.86374425,\n",
       "        -3.84295333, -3.82216242, -3.8013715 , -3.78058059, -3.75978967,\n",
       "        -3.73899876, -3.71820784, -3.69741693, -3.67662601, -3.6558351 ,\n",
       "        -3.63504418, -3.61425327, -3.59346235, -3.57267144, -3.55188052,\n",
       "        -3.53108961, -3.51029869, -3.48950778, -3.46871686, -3.44792595,\n",
       "        -3.42713503, -3.40634412, -3.3855532 , -3.36476229, -3.34397137,\n",
       "        -3.32318046, -3.30238955, -3.28159863, -3.26080772, -3.2400168 ,\n",
       "        -3.21922589]),\n",
       " <a list of 1 Patch objects>)"
      ]
     },
     "execution_count": 50,
     "metadata": {},
     "output_type": "execute_result"
    }
   ],
   "source": [
    "hist(log(array(GRList[2])), 100, histtype='step', density=True)\n",
    "hist(log(array(GRList[3])), 100, histtype='step', density=True)\n",
    "hist(log(array(GRList[4])), 100, histtype='step', density=True)"
   ]
  },
  {
   "cell_type": "code",
   "execution_count": 220,
   "metadata": {},
   "outputs": [],
   "source": [
    "fig = plt.gcf()\n",
    "plt.tight_layout()\n",
    "fig.set_tight_layout({'pad':2})\n",
    "fig.set_size_inches((5.25, 3))\n",
    "plt.savefig('Fig3.pdf')\n",
    "plt.savefig('Fig3.svg')\n"
   ]
  },
  {
   "cell_type": "code",
   "execution_count": 108,
   "metadata": {},
   "outputs": [
    {
     "data": {
      "text/plain": [
       "35277"
      ]
     },
     "execution_count": 108,
     "metadata": {},
     "output_type": "execute_result"
    }
   ],
   "source": [
    "len(((abs(diff(GRList[4]))>0)).nonzero()[0])"
   ]
  },
  {
   "cell_type": "code",
   "execution_count": 793,
   "metadata": {},
   "outputs": [
    {
     "data": {
      "text/plain": [
       "[249.52454488329013,\n",
       " 28.221417495400516,\n",
       " 2.812684462144393,\n",
       " 0.29099569822711435]"
      ]
     },
     "execution_count": 793,
     "metadata": {},
     "output_type": "execute_result"
    }
   ],
   "source": [
    "SP2dict['P2']['Fit']"
   ]
  },
  {
   "cell_type": "code",
   "execution_count": 797,
   "metadata": {},
   "outputs": [
    {
     "data": {
      "text/plain": [
       "'Fluor_w37_H_GL002_Background.csv'"
      ]
     },
     "execution_count": 797,
     "metadata": {},
     "output_type": "execute_result"
    }
   ],
   "source": [
    "SP2dict['BlankCtrl']"
   ]
  },
  {
   "cell_type": "code",
   "execution_count": 479,
   "metadata": {},
   "outputs": [],
   "source": []
  },
  {
   "cell_type": "code",
   "execution_count": null,
   "metadata": {},
   "outputs": [],
   "source": []
  },
  {
   "cell_type": "code",
   "execution_count": 493,
   "metadata": {},
   "outputs": [],
   "source": [
    "for i, p in enumerate(plasmidList):\n",
    "    atc = SP2dict['aTc']\n",
    "    fitparams = SP2dict[p]['Fit']\n",
    "    errorbar(atc[1:], (array(SP2dict[p]['GMax_mean'][1:])-LOW_LEVEL)/(HIGH_LEVEL - LOW_LEVEL), yerr=array(SP2dict[p]['GMax_std'][1:])/(HIGH_LEVEL-LOW_LEVEL), color=colorList[i], marker='o', ms=2,  mew=0.25, mec='#231f20', lw=0, elinewidth=0.5, capsize=1)\n",
    "    semilogx(atcH, (exp(loghill(log(atcH), *fitparams))-LOW_LEVEL)/(HIGH_LEVEL - LOW_LEVEL), color=colorList[i], label='Nc = '+str(Ndict[p]))"
   ]
  },
  {
   "cell_type": "code",
   "execution_count": 698,
   "metadata": {},
   "outputs": [],
   "source": [
    "figure()\n",
    "x = logspace(-1.5, 3, 100)\n",
    "for i, n in enumerate([1, 50, 30, 170, 270]):\n",
    "    xx = 5/(0.27**2+x**(-2))\n",
    "    ff = fc(xx, k=1, Ns=0, bs=-13, Nc=n, bc=-13, Nns=5.*10**6)\n",
    "    semilogx(x, (log(ff/(1-ff))), color=colorList[i])"
   ]
  },
  {
   "cell_type": "code",
   "execution_count": 690,
   "metadata": {},
   "outputs": [
    {
     "data": {
      "text/plain": [
       "[<matplotlib.lines.Line2D at 0x7fefa0ec1dc0>]"
      ]
     },
     "execution_count": 690,
     "metadata": {},
     "output_type": "execute_result"
    }
   ],
   "source": []
  },
  {
   "cell_type": "code",
   "execution_count": 802,
   "metadata": {},
   "outputs": [
    {
     "data": {
      "text/plain": [
       "[249.52454488329013,\n",
       " 28.221417495400516,\n",
       " 2.812684462144393,\n",
       " 0.29099569822711435]"
      ]
     },
     "execution_count": 802,
     "metadata": {},
     "output_type": "execute_result"
    }
   ],
   "source": [
    "SP2dict['P2']['Fit']"
   ]
  },
  {
   "cell_type": "code",
   "execution_count": 799,
   "metadata": {},
   "outputs": [],
   "source": [
    "LOW_LEVEL = 0\n",
    "HIGH_LEVEL = 1\n",
    "for i, p in enumerate(plasmidList):\n",
    "    atc = SP2dict['aTc']\n",
    "    fitparams = SP2dict[p]['Fit']\n",
    "    errorbar(atc[1:], (array(SP2dict[p]['GMax_mean'][1:])-LOW_LEVEL)/(HIGH_LEVEL - LOW_LEVEL), yerr=array(SP2dict[p]['GMax_std'][1:])/(HIGH_LEVEL-LOW_LEVEL), color=colorList[i], marker='o', ms=2,  mew=0.25, mec='#231f20', lw=0, elinewidth=0.5, capsize=1)\n",
    "    semilogx(atcH, (exp(loghill(log(atcH), *fitparams))-LOW_LEVEL)/(HIGH_LEVEL - LOW_LEVEL), color=colorList[i], label='Nc = '+str(Ndict[p]))"
   ]
  },
  {
   "cell_type": "code",
   "execution_count": 12,
   "metadata": {},
   "outputs": [
    {
     "ename": "TypeError",
     "evalue": "'float' object is not callable",
     "output_type": "error",
     "traceback": [
      "\u001b[0;31m---------------------------------------------------------------------------\u001b[0m",
      "\u001b[0;31mTypeError\u001b[0m                                 Traceback (most recent call last)",
      "\u001b[0;32m<ipython-input-12-6720c90fa8a0>\u001b[0m in \u001b[0;36m<module>\u001b[0;34m\u001b[0m\n\u001b[0;32m----> 1\u001b[0;31m \u001b[0mfc\u001b[0m\u001b[0;34m(\u001b[0m\u001b[0mxx\u001b[0m\u001b[0;34m,\u001b[0m \u001b[0mk\u001b[0m\u001b[0;34m=\u001b[0m\u001b[0;36m1\u001b[0m\u001b[0;34m,\u001b[0m \u001b[0mNs\u001b[0m\u001b[0;34m=\u001b[0m\u001b[0;36m0\u001b[0m\u001b[0;34m,\u001b[0m \u001b[0mbs\u001b[0m\u001b[0;34m=\u001b[0m\u001b[0;34m-\u001b[0m\u001b[0;36m17\u001b[0m\u001b[0;34m,\u001b[0m \u001b[0mNc\u001b[0m\u001b[0;34m=\u001b[0m\u001b[0mn\u001b[0m\u001b[0;34m,\u001b[0m \u001b[0mbc\u001b[0m\u001b[0;34m=\u001b[0m\u001b[0;34m-\u001b[0m\u001b[0;36m17\u001b[0m\u001b[0;34m,\u001b[0m \u001b[0mNns\u001b[0m\u001b[0;34m=\u001b[0m\u001b[0;36m5.\u001b[0m\u001b[0;34m*\u001b[0m\u001b[0;36m10\u001b[0m\u001b[0;34m**\u001b[0m\u001b[0;36m6\u001b[0m\u001b[0;34m)\u001b[0m\u001b[0;34m\u001b[0m\u001b[0;34m\u001b[0m\u001b[0m\n\u001b[0m",
      "\u001b[0;31mTypeError\u001b[0m: 'float' object is not callable"
     ]
    }
   ],
   "source": [
    "fc(xx, k=1, Ns=0, bs=-17, Nc=n, bc=-17, Nns=5.*10**6)"
   ]
  },
  {
   "cell_type": "code",
   "execution_count": 14,
   "metadata": {},
   "outputs": [
    {
     "data": {
      "text/plain": [
       "0.6251711330475422"
      ]
     },
     "execution_count": 14,
     "metadata": {},
     "output_type": "execute_result"
    }
   ],
   "source": [
    "fc"
   ]
  },
  {
   "cell_type": "code",
   "execution_count": 245,
   "metadata": {},
   "outputs": [],
   "source": [
    "import numpy as np\n",
    "import matplotlib.pyplot as plt\n",
    "\n",
    "# example data\n",
    "x = np.arange(0.1, 4, 0.5)\n",
    "y = np.exp(-x)\n",
    "\n",
    "# example error bar values that vary with x-position\n",
    "error = 0.1 + 0.2 * x\n",
    "\n",
    "fig, (ax0, ax1) = plt.subplots(nrows=2, sharex=True)\n",
    "ax0.errorbar(x, y, yerr=error, fmt='-o')\n",
    "ax0.set_title('variable, symmetric error')\n",
    "\n",
    "# error bar values w/ different -/+ errors that\n",
    "# also vary with the x-position\n",
    "lower_error = 0 * error\n",
    "upper_error = error\n",
    "asymmetric_error = [lower_error, upper_error]\n",
    "\n",
    "ax1.errorbar(x, y, yerr=asymmetric_error, fmt='o')\n",
    "ax1.set_title('variable, asymmetric error')\n",
    "ax1.set_yscale('log')\n",
    "plt.show()"
   ]
  },
  {
   "cell_type": "code",
   "execution_count": null,
   "metadata": {},
   "outputs": [],
   "source": []
  },
  {
   "cell_type": "code",
   "execution_count": 389,
   "metadata": {},
   "outputs": [
    {
     "data": {
      "text/plain": [
       "[<matplotlib.lines.Line2D at 0x7f9e9c6a2220>]"
      ]
     },
     "execution_count": 389,
     "metadata": {},
     "output_type": "execute_result"
    }
   ],
   "source": [
    "i = 0\n",
    "plot(array(nCellsList[i]) - array(grow[i]))"
   ]
  },
  {
   "cell_type": "code",
   "execution_count": 90,
   "metadata": {},
   "outputs": [
    {
     "data": {
      "text/plain": [
       "[<matplotlib.lines.Line2D at 0x7ff114aa7850>]"
      ]
     },
     "execution_count": 90,
     "metadata": {},
     "output_type": "execute_result"
    }
   ],
   "source": [
    "i=1\n",
    "plot(((IntensityList[i][:1000])))\n",
    "idd = (abs(diff(log(IntensityList[i][:1000])))>0.1).nonzero()[0]\n",
    "plot(arange(len(IntensityList[i]))[:1000][idd], IntensityList[i][:1000][idd],'or')"
   ]
  },
  {
   "cell_type": "code",
   "execution_count": 83,
   "metadata": {},
   "outputs": [
    {
     "data": {
      "text/plain": [
       "24"
      ]
     },
     "execution_count": 83,
     "metadata": {},
     "output_type": "execute_result"
    }
   ],
   "source": [
    "len(idd)"
   ]
  },
  {
   "cell_type": "code",
   "execution_count": 67,
   "metadata": {},
   "outputs": [
    {
     "data": {
      "text/plain": [
       "[<matplotlib.lines.Line2D at 0x7ff113db24c0>]"
      ]
     },
     "execution_count": 67,
     "metadata": {},
     "output_type": "execute_result"
    }
   ],
   "source": [
    "sub\n",
    "plot(diff(log(IntensityList[0])[:1000]))"
   ]
  },
  {
   "cell_type": "code",
   "execution_count": 61,
   "metadata": {},
   "outputs": [
    {
     "data": {
      "text/plain": [
       "33022"
      ]
     },
     "execution_count": 61,
     "metadata": {},
     "output_type": "execute_result"
    }
   ],
   "source": []
  },
  {
   "cell_type": "code",
   "execution_count": null,
   "metadata": {},
   "outputs": [],
   "source": []
  }
 ],
 "metadata": {
  "kernelspec": {
   "display_name": "Python 3",
   "language": "python",
   "name": "python3"
  },
  "language_info": {
   "codemirror_mode": {
    "name": "ipython",
    "version": 3
   },
   "file_extension": ".py",
   "mimetype": "text/x-python",
   "name": "python",
   "nbconvert_exporter": "python",
   "pygments_lexer": "ipython3",
   "version": "3.8.3"
  }
 },
 "nbformat": 4,
 "nbformat_minor": 4
}
