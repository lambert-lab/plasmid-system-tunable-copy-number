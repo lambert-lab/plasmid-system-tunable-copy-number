{
 "cells": [
  {
   "cell_type": "code",
   "execution_count": 1,
   "metadata": {},
   "outputs": [
    {
     "name": "stdout",
     "output_type": "stream",
     "text": [
      "Using matplotlib backend: MacOSX\n",
      "Populating the interactive namespace from numpy and matplotlib\n"
     ]
    }
   ],
   "source": [
    "import numpy as np\n",
    "import matplotlib.pyplot as plt\n",
    "import matplotlib\n",
    "import matplotlib.colors as colors\n",
    "import matplotlib.cm as cmx\n",
    "from collections import OrderedDict\n",
    "\n",
    "%pylab\n",
    "\n",
    "plt.clf()\n",
    "import matplotlib.pyplot as plt\n",
    "from matplotlib.gridspec import GridSpec\n",
    "gs = GridSpec(2, 3)\n",
    "fig = plt.gcf()\n",
    "fig.set_tight_layout({'pad':0})\n",
    "fig.set_size_inches((5, 3))"
   ]
  },
  {
   "cell_type": "code",
   "execution_count": 2,
   "metadata": {},
   "outputs": [],
   "source": [
    "files = []\n",
    "p1,p1lig = {},{}\n",
    "p2,p2lig = {},{}\n",
    "t1,t2,t3,t4,tlig = {},{},{},{},{}\n",
    "p2t1,p2t2,p2t3,p2t4 = {},{},{},{}\n",
    "p1boxes = 'TTGAGATAATCTT'\n",
    "p2boxes = 'TTGAAGTACACTA'\n",
    "def buildDicts(file,dict):\n",
    "    f = open(file, 'r')\n",
    "    for line in f:\n",
    "        l = line.strip().split(',')\n",
    "        dict[l[0]] = float(l[1])\n",
    "k = 0\n",
    "for i in [['RawData/1024p1.txt',p1],['RawData/1024p1lig.txt',p1lig],['RawData/1024p2.txt',p2],\n",
    "          ['RawData/1024p2lig.txt',p2lig],['RawData/time1.txt',t1],['RawData/time2.txt',t2],\n",
    "          ['RawData/time3.txt',t3],['RawData/time4.txt',t4],['RawData/timelig.txt',tlig],\n",
    "          ['RawData/p2_t1.txt',p2t1],['RawData/p2_t2.txt',p2t2],['RawData/p2_t3.txt',p2t3],['RawData/p2_t4.txt',p2t4]]:\n",
    "    buildDicts(i[0],i[1])\n",
    "    \n",
    "    \n"
   ]
  },
  {
   "cell_type": "code",
   "execution_count": 3,
   "metadata": {},
   "outputs": [],
   "source": [
    "def relativePCN(Ff,F0,Fti,Ftf,t,tau):\n",
    "    a = np.log2(Ftf/Fti) #tau is 6.0\n",
    "    return (Ff/F0)*2**(-a*(t/tau)) #t/tau is the ratio of doublings from inoculation to first and tf - ti \n",
    "def GrowthRate(fti,ftf,t):\n",
    "    return (ftf/fti)**(1.0/t)"
   ]
  },
  {
   "cell_type": "code",
   "execution_count": 4,
   "metadata": {},
   "outputs": [],
   "source": [
    "## p1 ##\n",
    "ssPCN,pcnSD ={},{}\n",
    "gr = {}\n",
    "grmean = {}\n",
    "grstd = {}\n",
    "sdomean = {}\n",
    "for ori in t1:\n",
    "    if ori in t2 and ori in t3 and ori in t4:\n",
    "        a,b,c,d = relativePCN(t1[ori],tlig[ori],t1[ori],t4[ori],1.5*np.log2(10),np.log2(5)*3.0),relativePCN(t2[ori],tlig[ori],t1[ori],t4[ori],2.0*np.log2(10),np.log2(5)*3.0),relativePCN(t3[ori],tlig[ori],t1[ori],t4[ori],3.0*np.log2(10),np.log2(5)*3.0),relativePCN(t4[ori],tlig[ori],t1[ori],t4[ori],3.5*np.log2(10),np.log2(5)*3.0)\n",
    "        ssPCN[ori] = np.mean([a,b,c,d])\n",
    "        pcnSD[ori] = np.std([a,b,c,d])\n",
    "        #ax.plot([a/ssPCN[ori],b/ssPCN[ori],c/ssPCN[ori],d/ssPCN[ori]],'-o',alpha=0.25, color = '#000000')\n",
    "        sdomean[ori] = (pcnSD[ori]/ssPCN[ori])\n",
    "        gr[ori] = GrowthRate(t1[ori],t4[ori],6.0)\n",
    "        grmean[ori] = np.mean([GrowthRate(t1[ori],t3[ori],4.0), GrowthRate(t2[ori],t4[ori],4.0), GrowthRate(t1[ori],t4[ori],6.0)])\n",
    "        grstd[ori] = np.std([GrowthRate(t1[ori],t3[ori],4.0), GrowthRate(t2[ori],t4[ori],4.0), GrowthRate(t1[ori],t4[ori],6.0)])        \n",
    "        \n",
    "        "
   ]
  },
  {
   "cell_type": "code",
   "execution_count": 5,
   "metadata": {},
   "outputs": [],
   "source": [
    "## p2 ##\n",
    "p2ssPCN,p2pcnSD ={},{}\n",
    "p2gr = {}\n",
    "p2grmean = {}\n",
    "p2grstd = {}\n",
    "p2sdomean = {}\n",
    "#p2 Data, not plotting in this notebook but it's processed here\n",
    "for ori in p2t1:\n",
    "    if p2t1[ori]*p2t2[ori]*p2t3[ori]*p2t4[ori]*p2lig[ori] > 0:\n",
    "        a,b,c,d = relativePCN(p2t1[ori],p2lig[ori],p2t1[ori],p2t4[ori],1.5*np.log2(10),np.log2(5)*3.0),relativePCN(p2t2[ori],p2lig[ori],p2t1[ori],p2t4[ori],2.0*np.log2(10),np.log2(5)*3.0),relativePCN(p2t3[ori],p2lig[ori],p2t1[ori],p2t4[ori],3.0*np.log2(10),np.log2(5)*3.0),relativePCN(p2t4[ori],p2lig[ori],p2t1[ori],p2t4[ori],3.5*np.log2(10),np.log2(5)*3.0)\n",
    "        p2ssPCN[ori] = np.mean([a,b,c,d])\n",
    "        p2pcnSD[ori] = np.std([a,b,c,d])\n",
    "        #ax.plot([a/p2ssPCN[ori],b/p2ssPCN[ori],c/p2ssPCN[ori],d/p2ssPCN[ori]],'-o',alpha=0.25, color = '#000000')\n",
    "        p2sdomean[ori] = (p2pcnSD[ori]/p2ssPCN[ori])\n",
    "        p2gr[ori] = GrowthRate(p2t1[ori],p2t4[ori],6.0)\n",
    "        p2grmean[ori] = np.mean([GrowthRate(p2t1[ori],p2t3[ori],4.0), GrowthRate(p2t2[ori],p2t4[ori],4.0), GrowthRate(p2t1[ori],p2t4[ori],6.0)])\n",
    "        p2grstd[ori] = np.std([GrowthRate(p2t1[ori],p2t3[ori],4.0), GrowthRate(p2t2[ori],p2t4[ori],4.0), GrowthRate(p2t1[ori],p2t4[ori],6.0)])          \n",
    "        "
   ]
  },
  {
   "cell_type": "code",
   "execution_count": 6,
   "metadata": {},
   "outputs": [],
   "source": [
    "#ax0 = plt.subplot(gs[0, :])\n",
    "#plt.axis('off')"
   ]
  },
  {
   "cell_type": "code",
   "execution_count": 7,
   "metadata": {},
   "outputs": [
    {
     "name": "stdout",
     "output_type": "stream",
     "text": [
      "46 45\n"
     ]
    },
    {
     "data": {
      "text/plain": [
       "\"\\n\\nax2 = plt.subplot(gs[:, 0])\\n\\n\\nax2.plot([0, 0], [0, 70], lw=0.5, color='#231f20', zorder=-2)\\n\\n\\nax2.hist(list(PP.values()), 45, density=False, color='#4682b4', histtype='stepfilled', alpha=0.25)\\nax2.hist(list(PP.values()), 45, density=False, color='#231f20', histtype='step', lw=0.25)\\n\\n\\n\\n\\n#ax2.set_ylim((0, 0.325))\\nax2.set_xlabel('log2(n1/n0)')\\nax2.set_ylabel('Counts')\\n#ax2.step(b[:-1], a, lw=0.5, color='#231f20', where='mid')\\n\""
      ]
     },
     "execution_count": 7,
     "metadata": {},
     "output_type": "execute_result"
    }
   ],
   "source": [
    "ax1 = plt.subplot(gs[:, 0])\n",
    "PPdict = {}\n",
    "GG = {}\n",
    "testedDict = {}\n",
    "tested = [p1boxes, 'TTTAACTATGATT','TTTAACTAAAATT','TTTCCCTATGATG','TTTAAATAAACTC','TTGAAATTAAATC','TTTACATTTACTA','TTTACCTTAAATA','TTTCACTAAGCTT','TTGACATATACTT','TTTCAATAAGATA','TTTACCTAAGCTG','TTGACATTAGCTG']\n",
    "for key, value in p1.items():\n",
    "    try:\n",
    "        GG[key] = grmean[key]\n",
    "        PPdict[key] = log(p1[key]/p1lig[key])/log(2)\n",
    "        PPdict[key] = log(ssPCN[key])/log(10)\n",
    "    except:\n",
    "        pass\n",
    "\n",
    "PP = OrderedDict(sorted(PPdict.items(), key=lambda t: t[1]))\n",
    "colorIndex = {}\n",
    "i = 5\n",
    "j = 0\n",
    "k = 0\n",
    "for key, value in PP.items():\n",
    "    if value > 0:\n",
    "        j += 1\n",
    "        cc = 256-int(j/210.*256)\n",
    "        colorIndex[key] = cc\n",
    "    else:\n",
    "        cc = 512-(int(k/620.*256))\n",
    "        k += 1   \n",
    "        colorIndex[key] = cc\n",
    "    ax1.plot(value, i, marker='o', ms=2, lw=0, mec='None', alpha=1, color=cmx.coolwarm(cc))\n",
    "    if i % 8 == 0:\n",
    "        ax1.plot([0, value], [i, i], lw=0.25, color=cmx.coolwarm(cc))\n",
    "    if key in tested:\n",
    "        ax1.plot(value, i, 'o', ms=3, mew=0.25, mec='#231f20', c='#8fcccc', zorder=3)\n",
    "        #ax1.plot([0, x], [i, i], lw=0.25,c='#231f20',zorder=3 )\n",
    "    i += 1\n",
    "\n",
    "#ax1.plot([0, 0], [-10, 840], lw=0.5, color='#231f20')\n",
    "#ax1.set_ylim((-5, 834))\n",
    "ax1.spines['left'].set_position('zero')\n",
    "#ax1.xaxis.tick_top()\n",
    "#ax1.xaxis.set_label_position('top')\n",
    "#ax1.spines['bottom'].set_visible(False)\n",
    "#ax1.spines['top'].set_visible(True)\n",
    "ax1.set_yticks([0, len(PP)]) \n",
    "ax1.set_ylim((-len(PP)*0.2, len(PP)*1.05))\n",
    "\n",
    "\n",
    "plot([-10, 10], [0,0], lw=0.5, color='#231f20')\n",
    "b, a = histogram(list(PP.values()), 45)\n",
    "print(len(a), len(b))\n",
    "ax1.step(hstack((a[0], a)), 2*hstack((0, b, 0))-len(PP)*0.2, where='post', lw=0.25, color='#231f20')\n",
    "ax1.set_xlim((1.1*a[0], 1.1*a[-1]))\n",
    "ax1.set_xticks([-4,-2,0,2]) \n",
    "\n",
    "ax1.set_ylabel('Ranked promoter list', labelpad=40)\n",
    "ax1.set_xlabel(r'log10(PCN)')\n",
    "\n",
    "\n",
    "'''\n",
    "\n",
    "ax2 = plt.subplot(gs[:, 0])\n",
    "\n",
    "\n",
    "ax2.plot([0, 0], [0, 70], lw=0.5, color='#231f20', zorder=-2)\n",
    "\n",
    "\n",
    "ax2.hist(list(PP.values()), 45, density=False, color='#4682b4', histtype='stepfilled', alpha=0.25)\n",
    "ax2.hist(list(PP.values()), 45, density=False, color='#231f20', histtype='step', lw=0.25)\n",
    "\n",
    "\n",
    "\n",
    "\n",
    "#ax2.set_ylim((0, 0.325))\n",
    "ax2.set_xlabel('log2(n1/n0)')\n",
    "ax2.set_ylabel('Counts')\n",
    "#ax2.step(b[:-1], a, lw=0.5, color='#231f20', where='mid')\n",
    "'''"
   ]
  },
  {
   "cell_type": "code",
   "execution_count": 8,
   "metadata": {},
   "outputs": [
    {
     "name": "stdout",
     "output_type": "stream",
     "text": [
      "366 164 202\n",
      "46 45\n"
     ]
    },
    {
     "data": {
      "text/plain": [
       "\"\\nax4 = plt.subplot(gs[4:, 1])\\n\\n\\nax4.plot([0, 0], [0, 30], lw=0.5, color='#231f20', zorder=-2)\\nax4.hist(list(PP2.values()), 30, density=False, color='#4682b4', histtype='stepfilled', alpha=0.25)\\nax4.hist(list(PP2.values()), 30, density=False, color='#231f20', histtype='step', lw=0.25)\\n\\n\\n\\n\\n#ax4.set_ylim((0, 0.325))\\nax4.set_xlabel('log2(n_1/n_2)')\\nax4.set_ylabel('Counts')\\n\""
      ]
     },
     "execution_count": 8,
     "metadata": {},
     "output_type": "execute_result"
    },
    {
     "name": "stderr",
     "output_type": "stream",
     "text": [
      "/Users/guillaume/opt/anaconda3/lib/python3.8/site-packages/ipykernel/_eventloop_macos.py:146: UserWarning: Calling figure.constrained_layout, but figure not setup to do constrained layout.  You either called GridSpec without the fig keyword, you are using plt.subplot, or you need to call figure or subplots with the constrained_layout=True kwarg.\n",
      "  msg(NSApp, n('run'))\n",
      "/Users/guillaume/opt/anaconda3/lib/python3.8/site-packages/ipykernel/_eventloop_macos.py:146: UserWarning: This figure was using constrained_layout==True, but that is incompatible with subplots_adjust and or tight_layout: setting constrained_layout==False. \n",
      "  msg(NSApp, n('run'))\n"
     ]
    }
   ],
   "source": [
    "ax3 = plt.subplot(gs[:, 1])\n",
    "\n",
    "PPdict2 = {}\n",
    "GG2 = {}\n",
    "\n",
    "for key, value in p2.items():\n",
    "    try:\n",
    "        GG2[key] = p2grmean[key]        \n",
    "        PPdict2[key] = log(p2ssPCN[key])/log(10)\n",
    "    except:\n",
    "        pass\n",
    "PP2 = OrderedDict(sorted(PPdict2.items(), key=lambda t: t[1]))\n",
    "i=0\n",
    "colorIndex2 = {}\n",
    "i = 0\n",
    "j = 0\n",
    "k = 0\n",
    "for key, value in PP2.items():\n",
    "    if value > 0:\n",
    "        j += 1\n",
    "        cc = 256-int(j/154.*256)\n",
    "        colorIndex2[key] = cc\n",
    "    else:\n",
    "        cc = 512-(int(k/271.*256))\n",
    "        k += 1   \n",
    "        colorIndex2[key] = cc    \n",
    "    ax3.plot(value, i, marker='o', ms=2, lw=0, mec='None', alpha=1, color=cmx.coolwarm(cc))\n",
    "    if i % 4 == 0:\n",
    "        ax3.plot([0, value], [i, i], lw=0.25, color=cmx.coolwarm(cc))    \n",
    "    i += 1\n",
    "print(i, j, k)    \n",
    "\n",
    "\n",
    "ax3.spines['left'].set_position('zero')\n",
    "ax3.set_yticks([0, len(PP2)]) \n",
    "ax3.set_ylim((-len(PP2)*0.2, len(PP2)*1.05))\n",
    "\n",
    "\n",
    "plot([-10, 10], [0,0], lw=0.5, color='#231f20')\n",
    "b, a = histogram(list(PP2.values()), 45)\n",
    "print(len(a), len(b))\n",
    "ax3.step(hstack((a[0], a)), 2*hstack((0, b, 0))-len(PP2)*0.2, where='post', lw=0.25, color='#231f20')\n",
    "ax3.set_xlim((1.1*a[0], 1.1*a[-1]))\n",
    "#ax3.set_xticks([-8,-4,0,4]) \n",
    "\n",
    "ax3.set_ylabel('Ranked promoter list', labelpad=30)\n",
    "ax3.set_xlabel(r'log10(PCN)')\n",
    "\n",
    "'''\n",
    "ax4 = plt.subplot(gs[4:, 1])\n",
    "\n",
    "\n",
    "ax4.plot([0, 0], [0, 30], lw=0.5, color='#231f20', zorder=-2)\n",
    "ax4.hist(list(PP2.values()), 30, density=False, color='#4682b4', histtype='stepfilled', alpha=0.25)\n",
    "ax4.hist(list(PP2.values()), 30, density=False, color='#231f20', histtype='step', lw=0.25)\n",
    "\n",
    "\n",
    "\n",
    "\n",
    "#ax4.set_ylim((0, 0.325))\n",
    "ax4.set_xlabel('log2(n_1/n_2)')\n",
    "ax4.set_ylabel('Counts')\n",
    "'''"
   ]
  },
  {
   "cell_type": "code",
   "execution_count": 14,
   "metadata": {},
   "outputs": [
    {
     "name": "stdout",
     "output_type": "stream",
     "text": [
      "-1.2649289424563406e-05 0.019349236719731017\n"
     ]
    },
    {
     "data": {
      "text/plain": [
       "Text(0.5, 0, 'Plasmid Copy Number')"
      ]
     },
     "execution_count": 14,
     "metadata": {},
     "output_type": "execute_result"
    },
    {
     "name": "stderr",
     "output_type": "stream",
     "text": [
      "/Users/guillaume/opt/anaconda3/lib/python3.8/site-packages/ipykernel/_eventloop_macos.py:146: UserWarning: Calling figure.constrained_layout, but figure not setup to do constrained layout.  You either called GridSpec without the fig keyword, you are using plt.subplot, or you need to call figure or subplots with the constrained_layout=True kwarg.\n",
      "  msg(NSApp, n('run'))\n"
     ]
    }
   ],
   "source": [
    "ax5 = plt.subplot(gs[0, 2])\n",
    "\n",
    "a,b= [],[]\n",
    "c,d = [],[]\n",
    "be = []\n",
    "aa, bb = [],[]\n",
    "absPCN = {}\n",
    "\n",
    "def func(x):\n",
    "    return 123*x**(0.37) - 28\n",
    "\n",
    "for i in sorted(ssPCN.keys(), key = lambda val: ssPCN[val]):\n",
    "    if i in t3 and i in t1:\n",
    "        a.append(func(ssPCN[i])) #Translating each sequencing measurement to an absolute measurement\n",
    "        absPCN[i] = func(ssPCN[i]) # same as above but creating a dictionary of said measurments\n",
    "        b.append(grmean[i]) # List of growth rates for plotting\n",
    "        be.append(grstd[i])\n",
    "        c.append(func(ssPCN[i])*sdomean[i]) #Calcualting SD in absolute PCN \n",
    "        d.append(sdomean[i]) # List of Sd/mean of PCNs\n",
    "        if i in tested:\n",
    "            aa.append(func(ssPCN[i]))\n",
    "            bb.append(grmean[i])\n",
    "            \n",
    "p = np.arange(1,830)-0.9\n",
    "q = np.zeros(829)\n",
    "coefs = np.polyfit(a[250:750],array(b[250:750])/60,1) #~0.065% per additional plasmid, neglecting first 250 points since they have 'negative' copy numbers\n",
    "for i in range(1,830):\n",
    "    q[i-1] = coefs[1]*0+0.02 + (coefs[0])*(i)\n",
    "print(coefs[0], coefs[1])\n",
    "\n",
    "ax5.plot(p,q, color='#ffffff',lw=0.75, alpha=0.8, zorder=20)\n",
    "ax5.plot(p,q, color='#cc333f',lw=0.5, label = \"Linear Metabolic Burden\", zorder=20)\n",
    "#ax.errorbar(a,b,xerr =c, yerr=be,fmt='o',ms=3,mew=0.3,mec='black', alpha=0.6,label=\"Priming Promoter\",ecolor='black',capsize=1,color='#719bf0')\n",
    "\n",
    "err = np.sqrt((np.array(c)/np.array(a))**2+(np.array(be)/np.array(b))**2)\n",
    "#err2 = (err-err.min())/(err.max() - err.min())\n",
    "#rrr = (0.1/err-min(0.1/err))/(max(0.1/err)-min(0.1/err))\n",
    "\n",
    "q1 = np.exp(np.quantile(np.log(err),0.75))\n",
    "q2 = np.exp(np.quantile(np.log(err),0.5))\n",
    "q3 = np.exp(np.quantile(np.log(err),0.25))\n",
    "\n",
    "serr = err*0\n",
    "for i, e in enumerate(err):\n",
    "    if e > q1:\n",
    "        serr[i] = 0.75\n",
    "    elif e > q2:\n",
    "        serr[i] = 1.25\n",
    "    elif e > q3:\n",
    "        serr[i] = 1.25\n",
    "    else:\n",
    "        serr[i] = 3\n",
    "N1 = 0\n",
    "N2 = 0\n",
    "N3 = 0\n",
    "\n",
    "for i in range(len(a)):\n",
    "    \n",
    "    if serr[i] == 1:\n",
    "        c = '#719bf0'\n",
    "        N1 += 1\n",
    "    elif serr[i] == 1.25:  \n",
    "        c = '#719bf0'\n",
    "        N2 += 1\n",
    "    else:\n",
    "        c = '#719bf0'\n",
    "        N3 += 1\n",
    "    ax5.plot(a[i],b[i]/60,marker='o',ms=serr[i], alpha=0.6,color=c, mew=0.25,mec='#231f20')\n",
    "\n",
    "ax5.plot(aa, array(bb)/60, marker='o',  ms=3, mew=0.25, mec='#231f20', c='#8fcccc', zorder=3, lw=0)  \n",
    "\n",
    "ax5.plot(1, 0.1/60, marker='o', ms=1, label='Error > 25%', alpha=0.6,color='#719bf0', mew=0.3,mec='black',lw=0)\n",
    "ax5.plot(1, 0.1/60, marker='o', ms=1.5, label='5% < Error < 25%', alpha=0.6,color='#719bf0', mew=0.3,mec='black',lw=0)\n",
    "ax5.plot(1, 0.1/60, marker='o', ms=3, label='Error < 5%', alpha=0.6,color='#719bf0', mew=0.3,mec='black',lw=0)\n",
    "ax5.set_xscale('log')\n",
    "\n",
    "plt.xticks([0.1,1.0,3.0,10.0,30.0,100.0,300,800],['0.1','1','3','10','30','100','300','800'], rotation=45)\n",
    "ax5.set_ylim((0.5/60,1.5/60))\n",
    "ax5.legend(fontsize=4)\n",
    "ax5.set_ylabel(\"Growth Rate\")\n",
    "ax5.set_xlabel(\"Plasmid Copy Number\")"
   ]
  },
  {
   "cell_type": "code",
   "execution_count": 10,
   "metadata": {},
   "outputs": [
    {
     "data": {
      "text/plain": [
       "\"\\n\\n# pUC19 and the TTTCAATAAACTC barcode had very similar p1/p1lig ratios\\n#ax4.errorbar(func(PCNs['TTTCAATAAACTC'],fit[0],fit[1]), p1ddPCR[0], yerr = PCRerr[0],xerr = b[0],fmt ='*',ms=6, mfc='#eb6841', mew = 0.5,ecolor='#231f20',markeredgecolor='#231f20',capsize=1)\\n\\nax4.set_xlabel('PCN (NextGen sequencing)')\\nax4.set_ylabel('PCN (ddPCR)')\\nax4.tick_params(axis='both', which='major')\\nax4.set_xscale('log')\\nax4.set_yscale('log')\\nax4.set_xlim((1*6, 350))\\nax4.set_ylim((1, 375))\\nax4.set_yticks([10, 100])\\nax4.get_yaxis().set_major_formatter(matplotlib.ticker.ScalarFormatter())\\n\\nax4.set_xticks([10, 100])\\nax4.get_xaxis().set_major_formatter(matplotlib.ticker.ScalarFormatter())\\n\""
      ]
     },
     "execution_count": 10,
     "metadata": {},
     "output_type": "execute_result"
    },
    {
     "name": "stderr",
     "output_type": "stream",
     "text": [
      "Locator attempting to generate 4334 ticks ([-66.05000000000001, ..., 908.8749999999754]), which exceeds Locator.MAXTICKS (1000).\n",
      "Locator attempting to generate 4334 ticks ([-66.05000000000001, ..., 908.8749999999754]), which exceeds Locator.MAXTICKS (1000).\n",
      "Locator attempting to generate 4334 ticks ([-66.05000000000001, ..., 908.8749999999754]), which exceeds Locator.MAXTICKS (1000).\n",
      "Locator attempting to generate 4334 ticks ([-66.05000000000001, ..., 908.8749999999754]), which exceeds Locator.MAXTICKS (1000).\n"
     ]
    }
   ],
   "source": [
    "ax4 = plt.subplot(gs[1, 2])\n",
    "\n",
    "\n",
    "#print(spearmanr(a,p1ddPCR[0:len(p1ddPCR)-3]))\n",
    "\n",
    "ddPCNseq = ['TTTAAATAAAATT','TTTACCTATGCTC','TTTACATTAAATA','TTTCCCTAAGATA','TTGCAATTAACTC','TTGCAATAAGCTG','TTTCCATTAGATG','TTGCACTTAGCTG','TTTACATAAGATT','TTGACATTTAATA','TTGACATATAATT','TTGCACTATACTG']\n",
    "ddpcn = [155.029585798817,146.892655367232,398.387096774194,164.53125,31.3636363636364,129.172932330827,6.36132315521629,0.968539325842697,2.27368421052632,22.093023255814,11.8987341772152,82.5]\n",
    "plasmidYield = [73.2,85.8,94.8,55.2,12.4,65.2,10.1,3.96,64.6,9.56,4.12,1.07]\n",
    "a,b,c,d=[],[],[],[]\n",
    "e = []\n",
    "q = []\n",
    "def func(x):\n",
    "    return 123*x**(0.37) - 28\n",
    "for i in range(0,len(ddPCNseq)):\n",
    "    if i != 8 and i != 11:\n",
    "        a.append(plasmidYield[i])\n",
    "        b.append(ddpcn[i])\n",
    "        e.append(func(ssPCN[ddPCNseq[i]])*sdomean[ddPCNseq[i]])\n",
    "        c.append(ssPCN[ddPCNseq[i]])\n",
    "        d.append(func(ssPCN[ddPCNseq[i]]))# np.mean([t4[ddPCNseq[i]]/tlig[ddPCNseq[i]]]))\n",
    "for l in np.arange(0.01,10,0.001):\n",
    "    q.append(func(l))#,p1[ddPCNseq[i]]/p1lig[ddPCNseq[i]]]))\n",
    "\n",
    "ax4.errorbar(d[:-1],b[:-1],xerr=e[:-1],fmt='o',ms=3,mew=0.5,mec='black', color='#35aaaf', ecolor='#231f20')\n",
    "#ax.plot(np.arange(0.01,10,0.001),q)\n",
    "ax4.set_xscale('log')\n",
    "ax4.set_yscale('log')\n",
    "plt.xticks([1.0,3.0,10.0,30.0,100.0,300, 800],['1','3','10','30','100','300','800'], rotation=45)\n",
    "plt.yticks([1.0,3.0,10.0,30.0,100.0,300, 800],['1','3','10','30','100','300','800'], rotation=0)\n",
    "plt.ylim(ax4.get_xlim()[0]-0.25, ax4.get_xlim()[1])\n",
    "ax4.set_ylabel('ddPCR')\n",
    "ax4.set_xlabel('Sequencing Measurement')\n",
    "\n",
    "        \n",
    "f = polyfit(log(d[:-1]), log(b[:-1]), 1)\n",
    "\n",
    "ax4.plot(linspace(1, 800, 501), exp(f[1])*linspace(1, 800, 501)**f[0], lw=0.5, color='#231f20')\n",
    "\n",
    "'''\n",
    "\n",
    "# pUC19 and the TTTCAATAAACTC barcode had very similar p1/p1lig ratios\n",
    "#ax4.errorbar(func(PCNs['TTTCAATAAACTC'],fit[0],fit[1]), p1ddPCR[0], yerr = PCRerr[0],xerr = b[0],fmt ='*',ms=6, mfc='#eb6841', mew = 0.5,ecolor='#231f20',markeredgecolor='#231f20',capsize=1)\n",
    "\n",
    "ax4.set_xlabel('PCN (NextGen sequencing)')\n",
    "ax4.set_ylabel('PCN (ddPCR)')\n",
    "ax4.tick_params(axis='both', which='major')\n",
    "ax4.set_xscale('log')\n",
    "ax4.set_yscale('log')\n",
    "ax4.set_xlim((1*6, 350))\n",
    "ax4.set_ylim((1, 375))\n",
    "ax4.set_yticks([10, 100])\n",
    "ax4.get_yaxis().set_major_formatter(matplotlib.ticker.ScalarFormatter())\n",
    "\n",
    "ax4.set_xticks([10, 100])\n",
    "ax4.get_xaxis().set_major_formatter(matplotlib.ticker.ScalarFormatter())\n",
    "'''\n"
   ]
  },
  {
   "cell_type": "code",
   "execution_count": 12,
   "metadata": {},
   "outputs": [
    {
     "name": "stderr",
     "output_type": "stream",
     "text": [
      "Locator attempting to generate 4334 ticks ([-66.05000000000001, ..., 908.8749999999754]), which exceeds Locator.MAXTICKS (1000).\n",
      "Locator attempting to generate 4334 ticks ([-66.05000000000001, ..., 908.8749999999754]), which exceeds Locator.MAXTICKS (1000).\n",
      "Locator attempting to generate 4334 ticks ([-66.05000000000001, ..., 908.8749999999754]), which exceeds Locator.MAXTICKS (1000).\n",
      "Locator attempting to generate 4334 ticks ([-66.05000000000001, ..., 908.8749999999754]), which exceeds Locator.MAXTICKS (1000).\n",
      "Locator attempting to generate 4334 ticks ([-66.05000000000001, ..., 908.8749999999754]), which exceeds Locator.MAXTICKS (1000).\n",
      "Locator attempting to generate 4334 ticks ([-66.05000000000001, ..., 908.8749999999754]), which exceeds Locator.MAXTICKS (1000).\n",
      "Locator attempting to generate 4334 ticks ([-66.05000000000001, ..., 908.8749999999754]), which exceeds Locator.MAXTICKS (1000).\n",
      "Locator attempting to generate 4334 ticks ([-66.05000000000001, ..., 908.8749999999754]), which exceeds Locator.MAXTICKS (1000).\n",
      "Locator attempting to generate 4334 ticks ([-66.05000000000001, ..., 908.8749999999754]), which exceeds Locator.MAXTICKS (1000).\n",
      "Locator attempting to generate 4334 ticks ([-66.05000000000001, ..., 908.8749999999754]), which exceeds Locator.MAXTICKS (1000).\n",
      "Locator attempting to generate 4334 ticks ([-66.05000000000001, ..., 908.8749999999754]), which exceeds Locator.MAXTICKS (1000).\n",
      "Locator attempting to generate 4334 ticks ([-66.05000000000001, ..., 908.8749999999754]), which exceeds Locator.MAXTICKS (1000).\n",
      "Locator attempting to generate 4334 ticks ([-66.05000000000001, ..., 908.8749999999754]), which exceeds Locator.MAXTICKS (1000).\n",
      "Locator attempting to generate 4334 ticks ([-66.05000000000001, ..., 908.8749999999754]), which exceeds Locator.MAXTICKS (1000).\n"
     ]
    }
   ],
   "source": [
    "plt.tight_layout()\n",
    "fig = plt.gcf()\n",
    "fig.set_tight_layout({'pad':0})\n",
    "fig.set_size_inches((5, 3))\n",
    "plt.savefig('Fig4.pdf')\n",
    "plt.savefig('Fig4.svg')"
   ]
  },
  {
   "cell_type": "code",
   "execution_count": null,
   "metadata": {},
   "outputs": [],
   "source": []
  },
  {
   "cell_type": "code",
   "execution_count": null,
   "metadata": {},
   "outputs": [],
   "source": []
  },
  {
   "cell_type": "code",
   "execution_count": null,
   "metadata": {},
   "outputs": [],
   "source": []
  },
  {
   "cell_type": "code",
   "execution_count": null,
   "metadata": {},
   "outputs": [],
   "source": []
  },
  {
   "cell_type": "code",
   "execution_count": null,
   "metadata": {},
   "outputs": [],
   "source": []
  },
  {
   "cell_type": "code",
   "execution_count": null,
   "metadata": {},
   "outputs": [],
   "source": []
  },
  {
   "cell_type": "code",
   "execution_count": null,
   "metadata": {},
   "outputs": [],
   "source": []
  },
  {
   "cell_type": "code",
   "execution_count": null,
   "metadata": {},
   "outputs": [],
   "source": []
  },
  {
   "cell_type": "code",
   "execution_count": null,
   "metadata": {},
   "outputs": [],
   "source": []
  },
  {
   "cell_type": "code",
   "execution_count": null,
   "metadata": {},
   "outputs": [],
   "source": []
  },
  {
   "cell_type": "code",
   "execution_count": null,
   "metadata": {},
   "outputs": [],
   "source": []
  }
 ],
 "metadata": {
  "kernelspec": {
   "display_name": "Python 3",
   "language": "python",
   "name": "python3"
  },
  "language_info": {
   "codemirror_mode": {
    "name": "ipython",
    "version": 3
   },
   "file_extension": ".py",
   "mimetype": "text/x-python",
   "name": "python",
   "nbconvert_exporter": "python",
   "pygments_lexer": "ipython3",
   "version": "3.8.3"
  }
 },
 "nbformat": 4,
 "nbformat_minor": 4
}
